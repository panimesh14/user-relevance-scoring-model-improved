{
  "cells": [
    {
      "cell_type": "markdown",
      "metadata": {
        "id": "view-in-github",
        "colab_type": "text"
      },
      "source": [
        "<a href=\"https://colab.research.google.com/github/panimesh14/user-relevance-scoring-model-improved/blob/main/Jan_04_2023_tcomb_iterative_impute_normal_dist_cdf.ipynb\" target=\"_parent\"><img src=\"https://colab.research.google.com/assets/colab-badge.svg\" alt=\"Open In Colab\"/></a>"
      ]
    },
    {
      "cell_type": "markdown",
      "id": "5ce31796",
      "metadata": {
        "id": "5ce31796"
      },
      "source": [
        "# Standard Libraries"
      ]
    },
    {
      "cell_type": "code",
      "execution_count": null,
      "id": "86356ba1",
      "metadata": {
        "id": "86356ba1"
      },
      "outputs": [],
      "source": [
        "import numpy as np\n",
        "import pandas as pd\n",
        "import matplotlib.pyplot as plt\n",
        "import seaborn as sns"
      ]
    },
    {
      "cell_type": "code",
      "execution_count": null,
      "id": "12f26825",
      "metadata": {
        "id": "12f26825"
      },
      "outputs": [],
      "source": [
        "%matplotlib inline"
      ]
    },
    {
      "cell_type": "code",
      "execution_count": null,
      "id": "6a638e5c",
      "metadata": {
        "id": "6a638e5c",
        "outputId": "973e8892-64c1-4cc0-9dbf-5e7966f1ab3f",
        "colab": {
          "base_uri": "https://localhost:8080/"
        }
      },
      "outputs": [
        {
          "output_type": "execute_result",
          "data": {
            "text/plain": [
              "0.3989422804014327"
            ]
          },
          "metadata": {},
          "execution_count": 543
        }
      ],
      "source": [
        "import scipy as sp\n",
        "sp.stats.norm.pdf(0.5,loc=0.5,scale=1)"
      ]
    },
    {
      "cell_type": "markdown",
      "id": "037d8bbc",
      "metadata": {
        "id": "037d8bbc"
      },
      "source": [
        "# Data Loading"
      ]
    },
    {
      "cell_type": "code",
      "execution_count": null,
      "id": "c4995287",
      "metadata": {
        "scrolled": true,
        "id": "c4995287",
        "outputId": "4dccfd4b-a204-4ba5-fd92-1813a266d845",
        "colab": {
          "base_uri": "https://localhost:8080/",
          "height": 756
        }
      },
      "outputs": [
        {
          "output_type": "execute_result",
          "data": {
            "text/plain": [
              "            username  booking_count  gross_earning  core_earning  \\\n",
              "0            anshul0           3107         138633        138293   \n",
              "1  PratikShrivastava           1743          31437         31437   \n",
              "2      lokesh_bagora           1624          18275         18275   \n",
              "3  deepika_rajagopal           1585           1782          1782   \n",
              "4       shreya_gupta            862           9050          9050   \n",
              "\n",
              "   profile_views firstbooking lastbooking  active_days  core_earning_per_day  \\\n",
              "0           5813   26-12-2021  22-12-2022          360            384.147222   \n",
              "1            323   05-01-2022  24-12-2022          353             89.056657   \n",
              "2            652   10-01-2022  09-10-2022          271             67.435424   \n",
              "3           2800   31-01-2022  31-03-2022           59             30.203390   \n",
              "4           3000   01-02-2022  26-03-2022           52            174.038462   \n",
              "\n",
              "  date_joined  age_in_days                                              title  \\\n",
              "0  20-12-2021          367  Founder @Tech and Target | Helping Students in...   \n",
              "1  23-12-2021          353  10+ Yrs Exp | R&D Specialist at Nokia Networks...   \n",
              "2  10-01-2022          271  Mock Interview , Career Guidance , Placement P...   \n",
              "3  31-01-2022           59  IT proffesional | Help aspiring fresher's in c...   \n",
              "4  23-02-2022           52  Mock Interview(All MNCs), Career Guidance, Pla...   \n",
              "\n",
              "                                         description currenc  followers  \\\n",
              "0                                                NaN     INR     6705.0   \n",
              "1  Hi, This is Pratik Shrivastava here. I have 10...     INR     8619.0   \n",
              "2  Hello, everyone, I am Lokesh Bagora from Indor...     INR        NaN   \n",
              "3  Deepika Here !\\nI am the content creator of On...     INR        NaN   \n",
              "4  Hello, I am Shreya Gupta pursuing my final yea...     INR     1363.0   \n",
              "\n",
              "                               company name  company tier numerical  \\\n",
              "0                                topmate.io                     5.0   \n",
              "1                             OnlineStudy4U                     5.0   \n",
              "2                                      Self                     5.0   \n",
              "3                             OnlineStudy4U                     5.0   \n",
              "4  Ernst & Young Global Consulting Services                     8.0   \n",
              "\n",
              "                                        college name  college tier numerical  \\\n",
              "0                                     GLA University                     7.0   \n",
              "1                    ramaiah-institute-of-technology                     6.0   \n",
              "2   Shivajirao Kadam Institute of Technology and ...                     6.0   \n",
              "3                                                NaN                     5.0   \n",
              "4        Noida Institute of Engineering & Technology                     7.0   \n",
              "\n",
              "                                            industry  Industry_numerical  \\\n",
              "0                                 Software Developer                 9.0   \n",
              "1                                 Software Developer                 9.0   \n",
              "2                                 Software Developer                 9.0   \n",
              "3                                 Software Developer                 9.0   \n",
              "4  User Summary:\\nI am a recent college graduate ...                 6.0   \n",
              "\n",
              "   years of experience  # of posts/week  avg engagement per post last 30 days  \\\n",
              "0                  5.0         1.166667                                  13.0   \n",
              "1                 12.0              NaN                                   NaN   \n",
              "2                  4.0              NaN                                   NaN   \n",
              "3                  3.0              NaN                                   NaN   \n",
              "4                  2.0         0.000000                                   0.0   \n",
              "\n",
              "                                             title.1  \\\n",
              "0  Founder@Tech and Target | Youtuber | 140k+ Sub...   \n",
              "1                                                NaN   \n",
              "2                                                NaN   \n",
              "3                                                NaN   \n",
              "4                         Analyst in Ernst and Young   \n",
              "\n",
              "                                        user summary  # of Posts last 30 days  \\\n",
              "0  I am a final year undergraduate pursuing Compu...                      1.0   \n",
              "1                                                NaN                      NaN   \n",
              "2                                                NaN                      NaN   \n",
              "3                                                NaN                      NaN   \n",
              "4                                                  0                      0.0   \n",
              "\n",
              "   # of Comments last 30 days  # of Reactions last 30 days  Gender  \\\n",
              "0                         0.0                          0.0    male   \n",
              "1                         NaN                          NaN     NaN   \n",
              "2                         NaN                          NaN     NaN   \n",
              "3                         NaN                          NaN     NaN   \n",
              "4                         0.0                          0.0  female   \n",
              "\n",
              "   gender_score  # of promotional posts  \n",
              "0             1                     1.0  \n",
              "1             1                     NaN  \n",
              "2             1                     NaN  \n",
              "3             0                     NaN  \n",
              "4             0                     0.0  "
            ],
            "text/html": [
              "\n",
              "  <div id=\"df-b98711cc-c733-40d5-b005-f4ad6496e1ff\">\n",
              "    <div class=\"colab-df-container\">\n",
              "      <div>\n",
              "<style scoped>\n",
              "    .dataframe tbody tr th:only-of-type {\n",
              "        vertical-align: middle;\n",
              "    }\n",
              "\n",
              "    .dataframe tbody tr th {\n",
              "        vertical-align: top;\n",
              "    }\n",
              "\n",
              "    .dataframe thead th {\n",
              "        text-align: right;\n",
              "    }\n",
              "</style>\n",
              "<table border=\"1\" class=\"dataframe\">\n",
              "  <thead>\n",
              "    <tr style=\"text-align: right;\">\n",
              "      <th></th>\n",
              "      <th>username</th>\n",
              "      <th>booking_count</th>\n",
              "      <th>gross_earning</th>\n",
              "      <th>core_earning</th>\n",
              "      <th>profile_views</th>\n",
              "      <th>firstbooking</th>\n",
              "      <th>lastbooking</th>\n",
              "      <th>active_days</th>\n",
              "      <th>core_earning_per_day</th>\n",
              "      <th>date_joined</th>\n",
              "      <th>age_in_days</th>\n",
              "      <th>title</th>\n",
              "      <th>description</th>\n",
              "      <th>currenc</th>\n",
              "      <th>followers</th>\n",
              "      <th>company name</th>\n",
              "      <th>company tier numerical</th>\n",
              "      <th>college name</th>\n",
              "      <th>college tier numerical</th>\n",
              "      <th>industry</th>\n",
              "      <th>Industry_numerical</th>\n",
              "      <th>years of experience</th>\n",
              "      <th># of posts/week</th>\n",
              "      <th>avg engagement per post last 30 days</th>\n",
              "      <th>title.1</th>\n",
              "      <th>user summary</th>\n",
              "      <th># of Posts last 30 days</th>\n",
              "      <th># of Comments last 30 days</th>\n",
              "      <th># of Reactions last 30 days</th>\n",
              "      <th>Gender</th>\n",
              "      <th>gender_score</th>\n",
              "      <th># of promotional posts</th>\n",
              "    </tr>\n",
              "  </thead>\n",
              "  <tbody>\n",
              "    <tr>\n",
              "      <th>0</th>\n",
              "      <td>anshul0</td>\n",
              "      <td>3107</td>\n",
              "      <td>138633</td>\n",
              "      <td>138293</td>\n",
              "      <td>5813</td>\n",
              "      <td>26-12-2021</td>\n",
              "      <td>22-12-2022</td>\n",
              "      <td>360</td>\n",
              "      <td>384.147222</td>\n",
              "      <td>20-12-2021</td>\n",
              "      <td>367</td>\n",
              "      <td>Founder @Tech and Target | Helping Students in...</td>\n",
              "      <td>NaN</td>\n",
              "      <td>INR</td>\n",
              "      <td>6705.0</td>\n",
              "      <td>topmate.io</td>\n",
              "      <td>5.0</td>\n",
              "      <td>GLA University</td>\n",
              "      <td>7.0</td>\n",
              "      <td>Software Developer</td>\n",
              "      <td>9.0</td>\n",
              "      <td>5.0</td>\n",
              "      <td>1.166667</td>\n",
              "      <td>13.0</td>\n",
              "      <td>Founder@Tech and Target | Youtuber | 140k+ Sub...</td>\n",
              "      <td>I am a final year undergraduate pursuing Compu...</td>\n",
              "      <td>1.0</td>\n",
              "      <td>0.0</td>\n",
              "      <td>0.0</td>\n",
              "      <td>male</td>\n",
              "      <td>1</td>\n",
              "      <td>1.0</td>\n",
              "    </tr>\n",
              "    <tr>\n",
              "      <th>1</th>\n",
              "      <td>PratikShrivastava</td>\n",
              "      <td>1743</td>\n",
              "      <td>31437</td>\n",
              "      <td>31437</td>\n",
              "      <td>323</td>\n",
              "      <td>05-01-2022</td>\n",
              "      <td>24-12-2022</td>\n",
              "      <td>353</td>\n",
              "      <td>89.056657</td>\n",
              "      <td>23-12-2021</td>\n",
              "      <td>353</td>\n",
              "      <td>10+ Yrs Exp | R&amp;D Specialist at Nokia Networks...</td>\n",
              "      <td>Hi, This is Pratik Shrivastava here. I have 10...</td>\n",
              "      <td>INR</td>\n",
              "      <td>8619.0</td>\n",
              "      <td>OnlineStudy4U</td>\n",
              "      <td>5.0</td>\n",
              "      <td>ramaiah-institute-of-technology</td>\n",
              "      <td>6.0</td>\n",
              "      <td>Software Developer</td>\n",
              "      <td>9.0</td>\n",
              "      <td>12.0</td>\n",
              "      <td>NaN</td>\n",
              "      <td>NaN</td>\n",
              "      <td>NaN</td>\n",
              "      <td>NaN</td>\n",
              "      <td>NaN</td>\n",
              "      <td>NaN</td>\n",
              "      <td>NaN</td>\n",
              "      <td>NaN</td>\n",
              "      <td>1</td>\n",
              "      <td>NaN</td>\n",
              "    </tr>\n",
              "    <tr>\n",
              "      <th>2</th>\n",
              "      <td>lokesh_bagora</td>\n",
              "      <td>1624</td>\n",
              "      <td>18275</td>\n",
              "      <td>18275</td>\n",
              "      <td>652</td>\n",
              "      <td>10-01-2022</td>\n",
              "      <td>09-10-2022</td>\n",
              "      <td>271</td>\n",
              "      <td>67.435424</td>\n",
              "      <td>10-01-2022</td>\n",
              "      <td>271</td>\n",
              "      <td>Mock Interview , Career Guidance , Placement P...</td>\n",
              "      <td>Hello, everyone, I am Lokesh Bagora from Indor...</td>\n",
              "      <td>INR</td>\n",
              "      <td>NaN</td>\n",
              "      <td>Self</td>\n",
              "      <td>5.0</td>\n",
              "      <td>Shivajirao Kadam Institute of Technology and ...</td>\n",
              "      <td>6.0</td>\n",
              "      <td>Software Developer</td>\n",
              "      <td>9.0</td>\n",
              "      <td>4.0</td>\n",
              "      <td>NaN</td>\n",
              "      <td>NaN</td>\n",
              "      <td>NaN</td>\n",
              "      <td>NaN</td>\n",
              "      <td>NaN</td>\n",
              "      <td>NaN</td>\n",
              "      <td>NaN</td>\n",
              "      <td>NaN</td>\n",
              "      <td>1</td>\n",
              "      <td>NaN</td>\n",
              "    </tr>\n",
              "    <tr>\n",
              "      <th>3</th>\n",
              "      <td>deepika_rajagopal</td>\n",
              "      <td>1585</td>\n",
              "      <td>1782</td>\n",
              "      <td>1782</td>\n",
              "      <td>2800</td>\n",
              "      <td>31-01-2022</td>\n",
              "      <td>31-03-2022</td>\n",
              "      <td>59</td>\n",
              "      <td>30.203390</td>\n",
              "      <td>31-01-2022</td>\n",
              "      <td>59</td>\n",
              "      <td>IT proffesional | Help aspiring fresher's in c...</td>\n",
              "      <td>Deepika Here !\\nI am the content creator of On...</td>\n",
              "      <td>INR</td>\n",
              "      <td>NaN</td>\n",
              "      <td>OnlineStudy4U</td>\n",
              "      <td>5.0</td>\n",
              "      <td>NaN</td>\n",
              "      <td>5.0</td>\n",
              "      <td>Software Developer</td>\n",
              "      <td>9.0</td>\n",
              "      <td>3.0</td>\n",
              "      <td>NaN</td>\n",
              "      <td>NaN</td>\n",
              "      <td>NaN</td>\n",
              "      <td>NaN</td>\n",
              "      <td>NaN</td>\n",
              "      <td>NaN</td>\n",
              "      <td>NaN</td>\n",
              "      <td>NaN</td>\n",
              "      <td>0</td>\n",
              "      <td>NaN</td>\n",
              "    </tr>\n",
              "    <tr>\n",
              "      <th>4</th>\n",
              "      <td>shreya_gupta</td>\n",
              "      <td>862</td>\n",
              "      <td>9050</td>\n",
              "      <td>9050</td>\n",
              "      <td>3000</td>\n",
              "      <td>01-02-2022</td>\n",
              "      <td>26-03-2022</td>\n",
              "      <td>52</td>\n",
              "      <td>174.038462</td>\n",
              "      <td>23-02-2022</td>\n",
              "      <td>52</td>\n",
              "      <td>Mock Interview(All MNCs), Career Guidance, Pla...</td>\n",
              "      <td>Hello, I am Shreya Gupta pursuing my final yea...</td>\n",
              "      <td>INR</td>\n",
              "      <td>1363.0</td>\n",
              "      <td>Ernst &amp; Young Global Consulting Services</td>\n",
              "      <td>8.0</td>\n",
              "      <td>Noida Institute of Engineering &amp; Technology</td>\n",
              "      <td>7.0</td>\n",
              "      <td>User Summary:\\nI am a recent college graduate ...</td>\n",
              "      <td>6.0</td>\n",
              "      <td>2.0</td>\n",
              "      <td>0.000000</td>\n",
              "      <td>0.0</td>\n",
              "      <td>Analyst in Ernst and Young</td>\n",
              "      <td>0</td>\n",
              "      <td>0.0</td>\n",
              "      <td>0.0</td>\n",
              "      <td>0.0</td>\n",
              "      <td>female</td>\n",
              "      <td>0</td>\n",
              "      <td>0.0</td>\n",
              "    </tr>\n",
              "  </tbody>\n",
              "</table>\n",
              "</div>\n",
              "      <button class=\"colab-df-convert\" onclick=\"convertToInteractive('df-b98711cc-c733-40d5-b005-f4ad6496e1ff')\"\n",
              "              title=\"Convert this dataframe to an interactive table.\"\n",
              "              style=\"display:none;\">\n",
              "        \n",
              "  <svg xmlns=\"http://www.w3.org/2000/svg\" height=\"24px\"viewBox=\"0 0 24 24\"\n",
              "       width=\"24px\">\n",
              "    <path d=\"M0 0h24v24H0V0z\" fill=\"none\"/>\n",
              "    <path d=\"M18.56 5.44l.94 2.06.94-2.06 2.06-.94-2.06-.94-.94-2.06-.94 2.06-2.06.94zm-11 1L8.5 8.5l.94-2.06 2.06-.94-2.06-.94L8.5 2.5l-.94 2.06-2.06.94zm10 10l.94 2.06.94-2.06 2.06-.94-2.06-.94-.94-2.06-.94 2.06-2.06.94z\"/><path d=\"M17.41 7.96l-1.37-1.37c-.4-.4-.92-.59-1.43-.59-.52 0-1.04.2-1.43.59L10.3 9.45l-7.72 7.72c-.78.78-.78 2.05 0 2.83L4 21.41c.39.39.9.59 1.41.59.51 0 1.02-.2 1.41-.59l7.78-7.78 2.81-2.81c.8-.78.8-2.07 0-2.86zM5.41 20L4 18.59l7.72-7.72 1.47 1.35L5.41 20z\"/>\n",
              "  </svg>\n",
              "      </button>\n",
              "      \n",
              "  <style>\n",
              "    .colab-df-container {\n",
              "      display:flex;\n",
              "      flex-wrap:wrap;\n",
              "      gap: 12px;\n",
              "    }\n",
              "\n",
              "    .colab-df-convert {\n",
              "      background-color: #E8F0FE;\n",
              "      border: none;\n",
              "      border-radius: 50%;\n",
              "      cursor: pointer;\n",
              "      display: none;\n",
              "      fill: #1967D2;\n",
              "      height: 32px;\n",
              "      padding: 0 0 0 0;\n",
              "      width: 32px;\n",
              "    }\n",
              "\n",
              "    .colab-df-convert:hover {\n",
              "      background-color: #E2EBFA;\n",
              "      box-shadow: 0px 1px 2px rgba(60, 64, 67, 0.3), 0px 1px 3px 1px rgba(60, 64, 67, 0.15);\n",
              "      fill: #174EA6;\n",
              "    }\n",
              "\n",
              "    [theme=dark] .colab-df-convert {\n",
              "      background-color: #3B4455;\n",
              "      fill: #D2E3FC;\n",
              "    }\n",
              "\n",
              "    [theme=dark] .colab-df-convert:hover {\n",
              "      background-color: #434B5C;\n",
              "      box-shadow: 0px 1px 3px 1px rgba(0, 0, 0, 0.15);\n",
              "      filter: drop-shadow(0px 1px 2px rgba(0, 0, 0, 0.3));\n",
              "      fill: #FFFFFF;\n",
              "    }\n",
              "  </style>\n",
              "\n",
              "      <script>\n",
              "        const buttonEl =\n",
              "          document.querySelector('#df-b98711cc-c733-40d5-b005-f4ad6496e1ff button.colab-df-convert');\n",
              "        buttonEl.style.display =\n",
              "          google.colab.kernel.accessAllowed ? 'block' : 'none';\n",
              "\n",
              "        async function convertToInteractive(key) {\n",
              "          const element = document.querySelector('#df-b98711cc-c733-40d5-b005-f4ad6496e1ff');\n",
              "          const dataTable =\n",
              "            await google.colab.kernel.invokeFunction('convertToInteractive',\n",
              "                                                     [key], {});\n",
              "          if (!dataTable) return;\n",
              "\n",
              "          const docLinkHtml = 'Like what you see? Visit the ' +\n",
              "            '<a target=\"_blank\" href=https://colab.research.google.com/notebooks/data_table.ipynb>data table notebook</a>'\n",
              "            + ' to learn more about interactive tables.';\n",
              "          element.innerHTML = '';\n",
              "          dataTable['output_type'] = 'display_data';\n",
              "          await google.colab.output.renderOutput(dataTable, element);\n",
              "          const docLink = document.createElement('div');\n",
              "          docLink.innerHTML = docLinkHtml;\n",
              "          element.appendChild(docLink);\n",
              "        }\n",
              "      </script>\n",
              "    </div>\n",
              "  </div>\n",
              "  "
            ]
          },
          "metadata": {},
          "execution_count": 544
        }
      ],
      "source": [
        "details_user =pd.read_csv('user_details_college_company - Sheet2.csv');\n",
        "details_user.head()"
      ]
    },
    {
      "cell_type": "code",
      "execution_count": null,
      "id": "ff5ec7ae",
      "metadata": {
        "scrolled": true,
        "id": "ff5ec7ae",
        "outputId": "b4f20c5d-6e2f-437b-cd28-711feabe9cb5",
        "colab": {
          "base_uri": "https://localhost:8080/"
        }
      },
      "outputs": [
        {
          "output_type": "stream",
          "name": "stdout",
          "text": [
            "<class 'pandas.core.frame.DataFrame'>\n",
            "RangeIndex: 2478 entries, 0 to 2477\n",
            "Data columns (total 32 columns):\n",
            " #   Column                                Non-Null Count  Dtype  \n",
            "---  ------                                --------------  -----  \n",
            " 0   username                              2478 non-null   object \n",
            " 1   booking_count                         2478 non-null   int64  \n",
            " 2   gross_earning                         2478 non-null   int64  \n",
            " 3   core_earning                          2478 non-null   int64  \n",
            " 4   profile_views                         2478 non-null   int64  \n",
            " 5   firstbooking                          2478 non-null   object \n",
            " 6   lastbooking                           2478 non-null   object \n",
            " 7   active_days                           2478 non-null   int64  \n",
            " 8   core_earning_per_day                  2478 non-null   float64\n",
            " 9   date_joined                           2478 non-null   object \n",
            " 10  age_in_days                           2478 non-null   int64  \n",
            " 11  title                                 1617 non-null   object \n",
            " 12  description                           1414 non-null   object \n",
            " 13  currenc                               2478 non-null   object \n",
            " 14  followers                             1818 non-null   float64\n",
            " 15  company name                          1851 non-null   object \n",
            " 16  company tier numerical                1851 non-null   float64\n",
            " 17  college name                          1915 non-null   object \n",
            " 18  college tier numerical                1916 non-null   float64\n",
            " 19  industry                              1830 non-null   object \n",
            " 20  Industry_numerical                    1875 non-null   float64\n",
            " 21  years of experience                   1786 non-null   float64\n",
            " 22  # of posts/week                       1779 non-null   float64\n",
            " 23  avg engagement per post last 30 days  1779 non-null   float64\n",
            " 24  title.1                               1778 non-null   object \n",
            " 25  user summary                          1752 non-null   object \n",
            " 26  # of Posts last 30 days               1779 non-null   float64\n",
            " 27  # of Comments last 30 days            1779 non-null   float64\n",
            " 28  # of Reactions last 30 days           1779 non-null   float64\n",
            " 29  Gender                                1779 non-null   object \n",
            " 30  gender_score                          2478 non-null   int64  \n",
            " 31  # of promotional posts                1779 non-null   float64\n",
            "dtypes: float64(12), int64(7), object(13)\n",
            "memory usage: 619.6+ KB\n"
          ]
        }
      ],
      "source": [
        "details_user.info()"
      ]
    },
    {
      "cell_type": "code",
      "execution_count": null,
      "id": "9426067f",
      "metadata": {
        "id": "9426067f"
      },
      "outputs": [],
      "source": [
        "pd.set_option('display.max_columns',None)"
      ]
    },
    {
      "cell_type": "code",
      "execution_count": null,
      "id": "44f69340",
      "metadata": {
        "scrolled": true,
        "id": "44f69340",
        "outputId": "519037fd-3937-42db-f088-3c505a1e7843",
        "colab": {
          "base_uri": "https://localhost:8080/",
          "height": 402
        }
      },
      "outputs": [
        {
          "output_type": "execute_result",
          "data": {
            "text/plain": [
              "            username  booking_count  gross_earning  core_earning  \\\n",
              "0            anshul0           3107         138633        138293   \n",
              "1  PratikShrivastava           1743          31437         31437   \n",
              "\n",
              "   profile_views firstbooking lastbooking  active_days  core_earning_per_day  \\\n",
              "0           5813   26-12-2021  22-12-2022          360            384.147222   \n",
              "1            323   05-01-2022  24-12-2022          353             89.056657   \n",
              "\n",
              "  date_joined  age_in_days                                              title  \\\n",
              "0  20-12-2021          367  Founder @Tech and Target | Helping Students in...   \n",
              "1  23-12-2021          353  10+ Yrs Exp | R&D Specialist at Nokia Networks...   \n",
              "\n",
              "                                         description currenc  followers  \\\n",
              "0                                                NaN     INR     6705.0   \n",
              "1  Hi, This is Pratik Shrivastava here. I have 10...     INR     8619.0   \n",
              "\n",
              "    company name  company tier numerical                     college name  \\\n",
              "0     topmate.io                     5.0                   GLA University   \n",
              "1  OnlineStudy4U                     5.0  ramaiah-institute-of-technology   \n",
              "\n",
              "   college tier numerical            industry  Industry_numerical  \\\n",
              "0                     7.0  Software Developer                 9.0   \n",
              "1                     6.0  Software Developer                 9.0   \n",
              "\n",
              "   years of experience  # of posts/week  avg engagement per post last 30 days  \\\n",
              "0                  5.0         1.166667                                  13.0   \n",
              "1                 12.0              NaN                                   NaN   \n",
              "\n",
              "                                             title.1  \\\n",
              "0  Founder@Tech and Target | Youtuber | 140k+ Sub...   \n",
              "1                                                NaN   \n",
              "\n",
              "                                        user summary  # of Posts last 30 days  \\\n",
              "0  I am a final year undergraduate pursuing Compu...                      1.0   \n",
              "1                                                NaN                      NaN   \n",
              "\n",
              "   # of Comments last 30 days  # of Reactions last 30 days Gender  \\\n",
              "0                         0.0                          0.0   male   \n",
              "1                         NaN                          NaN    NaN   \n",
              "\n",
              "   gender_score  # of promotional posts  \n",
              "0             1                     1.0  \n",
              "1             1                     NaN  "
            ],
            "text/html": [
              "\n",
              "  <div id=\"df-4056d3b3-07f2-491a-a781-4b8a89088f9f\">\n",
              "    <div class=\"colab-df-container\">\n",
              "      <div>\n",
              "<style scoped>\n",
              "    .dataframe tbody tr th:only-of-type {\n",
              "        vertical-align: middle;\n",
              "    }\n",
              "\n",
              "    .dataframe tbody tr th {\n",
              "        vertical-align: top;\n",
              "    }\n",
              "\n",
              "    .dataframe thead th {\n",
              "        text-align: right;\n",
              "    }\n",
              "</style>\n",
              "<table border=\"1\" class=\"dataframe\">\n",
              "  <thead>\n",
              "    <tr style=\"text-align: right;\">\n",
              "      <th></th>\n",
              "      <th>username</th>\n",
              "      <th>booking_count</th>\n",
              "      <th>gross_earning</th>\n",
              "      <th>core_earning</th>\n",
              "      <th>profile_views</th>\n",
              "      <th>firstbooking</th>\n",
              "      <th>lastbooking</th>\n",
              "      <th>active_days</th>\n",
              "      <th>core_earning_per_day</th>\n",
              "      <th>date_joined</th>\n",
              "      <th>age_in_days</th>\n",
              "      <th>title</th>\n",
              "      <th>description</th>\n",
              "      <th>currenc</th>\n",
              "      <th>followers</th>\n",
              "      <th>company name</th>\n",
              "      <th>company tier numerical</th>\n",
              "      <th>college name</th>\n",
              "      <th>college tier numerical</th>\n",
              "      <th>industry</th>\n",
              "      <th>Industry_numerical</th>\n",
              "      <th>years of experience</th>\n",
              "      <th># of posts/week</th>\n",
              "      <th>avg engagement per post last 30 days</th>\n",
              "      <th>title.1</th>\n",
              "      <th>user summary</th>\n",
              "      <th># of Posts last 30 days</th>\n",
              "      <th># of Comments last 30 days</th>\n",
              "      <th># of Reactions last 30 days</th>\n",
              "      <th>Gender</th>\n",
              "      <th>gender_score</th>\n",
              "      <th># of promotional posts</th>\n",
              "    </tr>\n",
              "  </thead>\n",
              "  <tbody>\n",
              "    <tr>\n",
              "      <th>0</th>\n",
              "      <td>anshul0</td>\n",
              "      <td>3107</td>\n",
              "      <td>138633</td>\n",
              "      <td>138293</td>\n",
              "      <td>5813</td>\n",
              "      <td>26-12-2021</td>\n",
              "      <td>22-12-2022</td>\n",
              "      <td>360</td>\n",
              "      <td>384.147222</td>\n",
              "      <td>20-12-2021</td>\n",
              "      <td>367</td>\n",
              "      <td>Founder @Tech and Target | Helping Students in...</td>\n",
              "      <td>NaN</td>\n",
              "      <td>INR</td>\n",
              "      <td>6705.0</td>\n",
              "      <td>topmate.io</td>\n",
              "      <td>5.0</td>\n",
              "      <td>GLA University</td>\n",
              "      <td>7.0</td>\n",
              "      <td>Software Developer</td>\n",
              "      <td>9.0</td>\n",
              "      <td>5.0</td>\n",
              "      <td>1.166667</td>\n",
              "      <td>13.0</td>\n",
              "      <td>Founder@Tech and Target | Youtuber | 140k+ Sub...</td>\n",
              "      <td>I am a final year undergraduate pursuing Compu...</td>\n",
              "      <td>1.0</td>\n",
              "      <td>0.0</td>\n",
              "      <td>0.0</td>\n",
              "      <td>male</td>\n",
              "      <td>1</td>\n",
              "      <td>1.0</td>\n",
              "    </tr>\n",
              "    <tr>\n",
              "      <th>1</th>\n",
              "      <td>PratikShrivastava</td>\n",
              "      <td>1743</td>\n",
              "      <td>31437</td>\n",
              "      <td>31437</td>\n",
              "      <td>323</td>\n",
              "      <td>05-01-2022</td>\n",
              "      <td>24-12-2022</td>\n",
              "      <td>353</td>\n",
              "      <td>89.056657</td>\n",
              "      <td>23-12-2021</td>\n",
              "      <td>353</td>\n",
              "      <td>10+ Yrs Exp | R&amp;D Specialist at Nokia Networks...</td>\n",
              "      <td>Hi, This is Pratik Shrivastava here. I have 10...</td>\n",
              "      <td>INR</td>\n",
              "      <td>8619.0</td>\n",
              "      <td>OnlineStudy4U</td>\n",
              "      <td>5.0</td>\n",
              "      <td>ramaiah-institute-of-technology</td>\n",
              "      <td>6.0</td>\n",
              "      <td>Software Developer</td>\n",
              "      <td>9.0</td>\n",
              "      <td>12.0</td>\n",
              "      <td>NaN</td>\n",
              "      <td>NaN</td>\n",
              "      <td>NaN</td>\n",
              "      <td>NaN</td>\n",
              "      <td>NaN</td>\n",
              "      <td>NaN</td>\n",
              "      <td>NaN</td>\n",
              "      <td>NaN</td>\n",
              "      <td>1</td>\n",
              "      <td>NaN</td>\n",
              "    </tr>\n",
              "  </tbody>\n",
              "</table>\n",
              "</div>\n",
              "      <button class=\"colab-df-convert\" onclick=\"convertToInteractive('df-4056d3b3-07f2-491a-a781-4b8a89088f9f')\"\n",
              "              title=\"Convert this dataframe to an interactive table.\"\n",
              "              style=\"display:none;\">\n",
              "        \n",
              "  <svg xmlns=\"http://www.w3.org/2000/svg\" height=\"24px\"viewBox=\"0 0 24 24\"\n",
              "       width=\"24px\">\n",
              "    <path d=\"M0 0h24v24H0V0z\" fill=\"none\"/>\n",
              "    <path d=\"M18.56 5.44l.94 2.06.94-2.06 2.06-.94-2.06-.94-.94-2.06-.94 2.06-2.06.94zm-11 1L8.5 8.5l.94-2.06 2.06-.94-2.06-.94L8.5 2.5l-.94 2.06-2.06.94zm10 10l.94 2.06.94-2.06 2.06-.94-2.06-.94-.94-2.06-.94 2.06-2.06.94z\"/><path d=\"M17.41 7.96l-1.37-1.37c-.4-.4-.92-.59-1.43-.59-.52 0-1.04.2-1.43.59L10.3 9.45l-7.72 7.72c-.78.78-.78 2.05 0 2.83L4 21.41c.39.39.9.59 1.41.59.51 0 1.02-.2 1.41-.59l7.78-7.78 2.81-2.81c.8-.78.8-2.07 0-2.86zM5.41 20L4 18.59l7.72-7.72 1.47 1.35L5.41 20z\"/>\n",
              "  </svg>\n",
              "      </button>\n",
              "      \n",
              "  <style>\n",
              "    .colab-df-container {\n",
              "      display:flex;\n",
              "      flex-wrap:wrap;\n",
              "      gap: 12px;\n",
              "    }\n",
              "\n",
              "    .colab-df-convert {\n",
              "      background-color: #E8F0FE;\n",
              "      border: none;\n",
              "      border-radius: 50%;\n",
              "      cursor: pointer;\n",
              "      display: none;\n",
              "      fill: #1967D2;\n",
              "      height: 32px;\n",
              "      padding: 0 0 0 0;\n",
              "      width: 32px;\n",
              "    }\n",
              "\n",
              "    .colab-df-convert:hover {\n",
              "      background-color: #E2EBFA;\n",
              "      box-shadow: 0px 1px 2px rgba(60, 64, 67, 0.3), 0px 1px 3px 1px rgba(60, 64, 67, 0.15);\n",
              "      fill: #174EA6;\n",
              "    }\n",
              "\n",
              "    [theme=dark] .colab-df-convert {\n",
              "      background-color: #3B4455;\n",
              "      fill: #D2E3FC;\n",
              "    }\n",
              "\n",
              "    [theme=dark] .colab-df-convert:hover {\n",
              "      background-color: #434B5C;\n",
              "      box-shadow: 0px 1px 3px 1px rgba(0, 0, 0, 0.15);\n",
              "      filter: drop-shadow(0px 1px 2px rgba(0, 0, 0, 0.3));\n",
              "      fill: #FFFFFF;\n",
              "    }\n",
              "  </style>\n",
              "\n",
              "      <script>\n",
              "        const buttonEl =\n",
              "          document.querySelector('#df-4056d3b3-07f2-491a-a781-4b8a89088f9f button.colab-df-convert');\n",
              "        buttonEl.style.display =\n",
              "          google.colab.kernel.accessAllowed ? 'block' : 'none';\n",
              "\n",
              "        async function convertToInteractive(key) {\n",
              "          const element = document.querySelector('#df-4056d3b3-07f2-491a-a781-4b8a89088f9f');\n",
              "          const dataTable =\n",
              "            await google.colab.kernel.invokeFunction('convertToInteractive',\n",
              "                                                     [key], {});\n",
              "          if (!dataTable) return;\n",
              "\n",
              "          const docLinkHtml = 'Like what you see? Visit the ' +\n",
              "            '<a target=\"_blank\" href=https://colab.research.google.com/notebooks/data_table.ipynb>data table notebook</a>'\n",
              "            + ' to learn more about interactive tables.';\n",
              "          element.innerHTML = '';\n",
              "          dataTable['output_type'] = 'display_data';\n",
              "          await google.colab.output.renderOutput(dataTable, element);\n",
              "          const docLink = document.createElement('div');\n",
              "          docLink.innerHTML = docLinkHtml;\n",
              "          element.appendChild(docLink);\n",
              "        }\n",
              "      </script>\n",
              "    </div>\n",
              "  </div>\n",
              "  "
            ]
          },
          "metadata": {},
          "execution_count": 547
        }
      ],
      "source": [
        "details_user.head(2)"
      ]
    },
    {
      "cell_type": "markdown",
      "id": "590fae11",
      "metadata": {
        "id": "590fae11"
      },
      "source": [
        "### Data Filtering "
      ]
    },
    {
      "cell_type": "code",
      "execution_count": null,
      "id": "50d5116a",
      "metadata": {
        "scrolled": true,
        "id": "50d5116a"
      },
      "outputs": [],
      "source": [
        "cols_det=['booking_count', 'age_in_days','core_earning','active_days', 'followers', 'company tier numerical', 'college tier numerical', 'years of experience', '# of posts/week', 'avg engagement per post last 30 days', '# of Posts last 30 days', '# of Comments last 30 days', '# of Reactions last 30 days', 'gender_score','# of promotional posts']\n",
        "details_profile_int=details_user[cols_det]"
      ]
    },
    {
      "cell_type": "code",
      "execution_count": null,
      "id": "0c320c8f",
      "metadata": {
        "id": "0c320c8f",
        "outputId": "a6781295-9457-4969-f05a-10f96f2592bf",
        "colab": {
          "base_uri": "https://localhost:8080/"
        }
      },
      "outputs": [
        {
          "output_type": "stream",
          "name": "stdout",
          "text": [
            "<class 'pandas.core.frame.DataFrame'>\n",
            "RangeIndex: 2478 entries, 0 to 2477\n",
            "Data columns (total 15 columns):\n",
            " #   Column                                Non-Null Count  Dtype  \n",
            "---  ------                                --------------  -----  \n",
            " 0   booking_count                         2478 non-null   int64  \n",
            " 1   age_in_days                           2478 non-null   int64  \n",
            " 2   core_earning                          2478 non-null   int64  \n",
            " 3   active_days                           2478 non-null   int64  \n",
            " 4   followers                             1818 non-null   float64\n",
            " 5   company tier numerical                1851 non-null   float64\n",
            " 6   college tier numerical                1916 non-null   float64\n",
            " 7   years of experience                   1786 non-null   float64\n",
            " 8   # of posts/week                       1779 non-null   float64\n",
            " 9   avg engagement per post last 30 days  1779 non-null   float64\n",
            " 10  # of Posts last 30 days               1779 non-null   float64\n",
            " 11  # of Comments last 30 days            1779 non-null   float64\n",
            " 12  # of Reactions last 30 days           1779 non-null   float64\n",
            " 13  gender_score                          2478 non-null   int64  \n",
            " 14  # of promotional posts                1779 non-null   float64\n",
            "dtypes: float64(10), int64(5)\n",
            "memory usage: 290.5 KB\n"
          ]
        }
      ],
      "source": [
        "details_profile_int.info()"
      ]
    },
    {
      "cell_type": "markdown",
      "id": "ae222a29",
      "metadata": {
        "id": "ae222a29"
      },
      "source": [
        "details_profile_int.drop(['Industry_numerical'],axis=1,inplace=True)"
      ]
    },
    {
      "cell_type": "code",
      "execution_count": null,
      "id": "cebd7f4b",
      "metadata": {
        "id": "cebd7f4b",
        "outputId": "dc249fcf-8a26-4b4f-b077-719be1b1a2b2",
        "colab": {
          "base_uri": "https://localhost:8080/"
        }
      },
      "outputs": [
        {
          "output_type": "execute_result",
          "data": {
            "text/plain": [
              "Index(['booking_count', 'age_in_days', 'core_earning', 'active_days',\n",
              "       'followers', 'company tier numerical', 'college tier numerical',\n",
              "       'years of experience', '# of posts/week',\n",
              "       'avg engagement per post last 30 days', '# of Posts last 30 days',\n",
              "       '# of Comments last 30 days', '# of Reactions last 30 days',\n",
              "       'gender_score', '# of promotional posts'],\n",
              "      dtype='object')"
            ]
          },
          "metadata": {},
          "execution_count": 550
        }
      ],
      "source": [
        "details_profile_int.columns"
      ]
    },
    {
      "cell_type": "markdown",
      "id": "9f595aad",
      "metadata": {
        "id": "9f595aad"
      },
      "source": [
        "# Exploratory Data Analysis"
      ]
    },
    {
      "cell_type": "code",
      "execution_count": null,
      "id": "85e5c586",
      "metadata": {
        "id": "85e5c586",
        "outputId": "e21f9db0-bfd9-4ea3-e010-273d0f273bf9",
        "colab": {
          "base_uri": "https://localhost:8080/"
        }
      },
      "outputs": [
        {
          "output_type": "execute_result",
          "data": {
            "text/plain": [
              "0    1\n",
              "1    1\n",
              "2    1\n",
              "3    0\n",
              "4    0\n",
              "5    0\n",
              "6    1\n",
              "Name: gender_score, dtype: int64"
            ]
          },
          "metadata": {},
          "execution_count": 551
        }
      ],
      "source": [
        "details_profile_int['gender_score'].head(7)"
      ]
    },
    {
      "cell_type": "code",
      "execution_count": null,
      "id": "36a99ac7",
      "metadata": {
        "scrolled": true,
        "id": "36a99ac7",
        "outputId": "840fe78b-f470-46a7-b44d-4a16aaf62011",
        "colab": {
          "base_uri": "https://localhost:8080/"
        }
      },
      "outputs": [
        {
          "output_type": "execute_result",
          "data": {
            "text/plain": [
              "booking_count                           1\n",
              "age_in_days                             1\n",
              "core_earning                            1\n",
              "active_days                             1\n",
              "followers                               2\n",
              "company tier numerical                  2\n",
              "college tier numerical                  2\n",
              "years of experience                     2\n",
              "# of posts/week                         2\n",
              "avg engagement per post last 30 days    2\n",
              "# of Posts last 30 days                 2\n",
              "# of Comments last 30 days              2\n",
              "# of Reactions last 30 days             2\n",
              "gender_score                            1\n",
              "# of promotional posts                  2\n",
              "dtype: int64"
            ]
          },
          "metadata": {},
          "execution_count": 552
        }
      ],
      "source": [
        "details_profile_int.isna().nunique()\n",
        "#followers, company tier numerical, college tier numerical, years of experience, # of posts/week, avg engagement per post last 30 days, # of posts last 30 days, # of Comments last 30 days, # of Reactions last 30 days, Gender, # of promotional posts"
      ]
    },
    {
      "cell_type": "code",
      "execution_count": null,
      "id": "2730e608",
      "metadata": {
        "id": "2730e608",
        "outputId": "3460bc15-b7f2-43b2-f73a-914a53c171b0",
        "colab": {
          "base_uri": "https://localhost:8080/"
        }
      },
      "outputs": [
        {
          "output_type": "execute_result",
          "data": {
            "text/plain": [
              "booking_count                             0\n",
              "age_in_days                               0\n",
              "core_earning                              0\n",
              "active_days                               0\n",
              "followers                               660\n",
              "company tier numerical                  627\n",
              "college tier numerical                  562\n",
              "years of experience                     692\n",
              "# of posts/week                         699\n",
              "avg engagement per post last 30 days    699\n",
              "# of Posts last 30 days                 699\n",
              "# of Comments last 30 days              699\n",
              "# of Reactions last 30 days             699\n",
              "gender_score                              0\n",
              "# of promotional posts                  699\n",
              "dtype: int64"
            ]
          },
          "metadata": {},
          "execution_count": 553
        }
      ],
      "source": [
        "details_profile_int.isnull().sum()"
      ]
    },
    {
      "cell_type": "code",
      "execution_count": null,
      "id": "b245f46c",
      "metadata": {
        "id": "b245f46c",
        "outputId": "71c1d36d-4299-4c7b-c6f3-2a271a77d322",
        "colab": {
          "base_uri": "https://localhost:8080/"
        }
      },
      "outputs": [
        {
          "output_type": "execute_result",
          "data": {
            "text/plain": [
              "2478"
            ]
          },
          "metadata": {},
          "execution_count": 554
        }
      ],
      "source": [
        "len(details_profile_int)"
      ]
    },
    {
      "cell_type": "code",
      "execution_count": null,
      "id": "e4830c12",
      "metadata": {
        "id": "e4830c12",
        "outputId": "bf327988-45da-461a-c159-34b5810eb2ed",
        "colab": {
          "base_uri": "https://localhost:8080/"
        }
      },
      "outputs": [
        {
          "output_type": "execute_result",
          "data": {
            "text/plain": [
              "booking_count                            0.000000\n",
              "age_in_days                              0.000000\n",
              "core_earning                             0.000000\n",
              "active_days                              0.000000\n",
              "followers                               26.634383\n",
              "company tier numerical                  25.302663\n",
              "college tier numerical                  22.679580\n",
              "years of experience                     27.925747\n",
              "# of posts/week                         28.208232\n",
              "avg engagement per post last 30 days    28.208232\n",
              "# of Posts last 30 days                 28.208232\n",
              "# of Comments last 30 days              28.208232\n",
              "# of Reactions last 30 days             28.208232\n",
              "gender_score                             0.000000\n",
              "# of promotional posts                  28.208232\n",
              "dtype: float64"
            ]
          },
          "metadata": {},
          "execution_count": 555
        }
      ],
      "source": [
        "100*details_profile_int.isnull().sum()/len(details_profile_int)"
      ]
    },
    {
      "cell_type": "markdown",
      "source": [
        "##Dropping Nans"
      ],
      "metadata": {
        "id": "-xZ8wEuI3PpJ"
      },
      "id": "-xZ8wEuI3PpJ"
    },
    {
      "cell_type": "code",
      "execution_count": null,
      "id": "0c1b1077",
      "metadata": {
        "id": "0c1b1077",
        "outputId": "5e091ec7-c4b0-49b9-aff7-acffd959682f",
        "colab": {
          "base_uri": "https://localhost:8080/"
        }
      },
      "outputs": [
        {
          "output_type": "execute_result",
          "data": {
            "text/plain": [
              "1714"
            ]
          },
          "metadata": {},
          "execution_count": 556
        }
      ],
      "source": [
        "\n",
        "details_profile_int_dr = details_profile_int.dropna()\n",
        "len(details_profile_int_dr)"
      ]
    },
    {
      "cell_type": "markdown",
      "source": [
        "#Iterative Imputer"
      ],
      "metadata": {
        "id": "x7XmHQ1_3RoJ"
      },
      "id": "x7XmHQ1_3RoJ"
    },
    {
      "cell_type": "code",
      "source": [],
      "metadata": {
        "id": "xmvbEods3XR_"
      },
      "id": "xmvbEods3XR_",
      "execution_count": null,
      "outputs": []
    },
    {
      "cell_type": "code",
      "execution_count": null,
      "metadata": {
        "id": "5e22f827",
        "outputId": "890d53f1-311b-45cd-bdda-283b1605c468",
        "colab": {
          "base_uri": "https://localhost:8080/"
        }
      },
      "outputs": [
        {
          "output_type": "execute_result",
          "data": {
            "text/plain": [
              "0.0"
            ]
          },
          "metadata": {},
          "execution_count": 557
        }
      ],
      "source": [
        "from sklearn.experimental import enable_iterative_imputer\n",
        "from sklearn.impute import IterativeImputer\n",
        "iterpute = IterativeImputer()\n",
        "details_profile_int_sim = iterpute.fit_transform(details_profile_int)\n",
        "data_ret = len(details_profile_int_sim)/len(details_profile_int)\n",
        "data_loss = 1-data_ret\n",
        "data_loss"
      ],
      "id": "5e22f827"
    },
    {
      "cell_type": "code",
      "source": [
        "details_profile_int_dr = pd.DataFrame(details_profile_int_sim,columns=details_profile_int.columns)\n",
        "details_profile_int_dr.isnull().sum()"
      ],
      "metadata": {
        "colab": {
          "base_uri": "https://localhost:8080/"
        },
        "id": "ajYMM1Qj3bIw",
        "outputId": "7530fcb2-d7f6-43ff-cca0-36afe59b81fb"
      },
      "id": "ajYMM1Qj3bIw",
      "execution_count": null,
      "outputs": [
        {
          "output_type": "execute_result",
          "data": {
            "text/plain": [
              "booking_count                           0\n",
              "age_in_days                             0\n",
              "core_earning                            0\n",
              "active_days                             0\n",
              "followers                               0\n",
              "company tier numerical                  0\n",
              "college tier numerical                  0\n",
              "years of experience                     0\n",
              "# of posts/week                         0\n",
              "avg engagement per post last 30 days    0\n",
              "# of Posts last 30 days                 0\n",
              "# of Comments last 30 days              0\n",
              "# of Reactions last 30 days             0\n",
              "gender_score                            0\n",
              "# of promotional posts                  0\n",
              "dtype: int64"
            ]
          },
          "metadata": {},
          "execution_count": 558
        }
      ]
    },
    {
      "cell_type": "code",
      "execution_count": null,
      "id": "deca84d4",
      "metadata": {
        "id": "deca84d4",
        "outputId": "f354d37c-e7ac-4d3d-f002-ed128298aed0",
        "colab": {
          "base_uri": "https://localhost:8080/"
        }
      },
      "outputs": [
        {
          "output_type": "execute_result",
          "data": {
            "text/plain": [
              "0.0"
            ]
          },
          "metadata": {},
          "execution_count": 559
        }
      ],
      "source": [
        "data_ret = len(details_profile_int_dr)/len(details_profile_int)\n",
        "data_loss = 1-data_ret\n",
        "data_loss"
      ]
    },
    {
      "cell_type": "code",
      "execution_count": null,
      "id": "286c64d4",
      "metadata": {
        "id": "286c64d4"
      },
      "outputs": [],
      "source": [
        "# def gen_to_bin(x):\n",
        "#     if(x=='male'):\n",
        "#         return 0\n",
        "#     else:\n",
        "#         return 1\n",
        "\n",
        "# details_profile_int_dr['Gender'] = details_profile_int_dr['Gender'].apply(gen_to_bin)\n",
        "# details_profile_int_dr['Gender']"
      ]
    },
    {
      "cell_type": "code",
      "execution_count": null,
      "id": "01de0e05",
      "metadata": {
        "id": "01de0e05"
      },
      "outputs": [],
      "source": [
        "\n",
        "# details_profile_int_dr['t1']=(details_profile_int_dr['core_earning']/(details_profile_int_dr['active_days']+1))\n",
        "# details_profile_int_dr['t2']=(details_profile_int_dr['core_earning']/(details_profile_int_dr['booking_count']+1))\n",
        "# details_profile_int_dr.info() "
      ]
    },
    {
      "cell_type": "code",
      "source": [
        "# details_profile_int_dr['t1'].describe(percentiles=[0.6,0.7,0.8,0.9,0.99])"
      ],
      "metadata": {
        "id": "5udwPMmoULmJ"
      },
      "id": "5udwPMmoULmJ",
      "execution_count": null,
      "outputs": []
    },
    {
      "cell_type": "code",
      "source": [
        "# details_profile_int_dr['t2'].describe(percentiles=[0.6,0.7,0.8,0.9,0.99])"
      ],
      "metadata": {
        "id": "JeORv7jSWLLs"
      },
      "id": "JeORv7jSWLLs",
      "execution_count": null,
      "outputs": []
    },
    {
      "cell_type": "markdown",
      "source": [],
      "metadata": {
        "id": "NtyKEXmz8i9A"
      },
      "id": "NtyKEXmz8i9A"
    },
    {
      "cell_type": "code",
      "execution_count": null,
      "id": "59359c44",
      "metadata": {
        "scrolled": true,
        "id": "59359c44",
        "outputId": "b36db7f2-cb18-445a-a8a4-bd19abfb3cb0",
        "colab": {
          "base_uri": "https://localhost:8080/",
          "height": 265
        }
      },
      "outputs": [
        {
          "output_type": "display_data",
          "data": {
            "text/plain": [
              "<Figure size 432x288 with 1 Axes>"
            ],
            "image/png": "[encoded data removed]"
          },
          "metadata": {
            "needs_background": "light"
          }
        }
      ],
      "source": [
        "details_profile_int_dr['target_score']=(details_profile_int_dr['core_earning']/(details_profile_int_dr['active_days']+1))+(details_profile_int_dr['core_earning']/(details_profile_int_dr['booking_count']+1))\n",
        "#details_profile_int_dr['target_score2']=\n",
        "\n",
        "details_profile_int_dr['target_score'] = sp.stats.norm.cdf(details_profile_int_dr['target_score'],loc=0,scale=1)\n",
        "details_profile_int_dr['target_score'].hist(bins=100)\n",
        "#details_profile_int_dr[details_profile_int_dr['target_score']<0.9]['core_earning'].plot()#hist(bins=100)\n",
        "plt.grid()"
      ]
    },
    {
      "cell_type": "code",
      "execution_count": null,
      "id": "1607616f",
      "metadata": {
        "id": "1607616f",
        "outputId": "59aaa33d-3324-4ea1-a885-87cb5793cc3d",
        "colab": {
          "base_uri": "https://localhost:8080/",
          "height": 282
        }
      },
      "outputs": [
        {
          "output_type": "execute_result",
          "data": {
            "text/plain": [
              "<matplotlib.axes._subplots.AxesSubplot at 0x7f4ef91b4340>"
            ]
          },
          "metadata": {},
          "execution_count": 565
        },
        {
          "output_type": "display_data",
          "data": {
            "text/plain": [
              "<Figure size 432x288 with 1 Axes>"
            ],
            "image/png": "[encoded data removed]"
          },
          "metadata": {
            "needs_background": "light"
          }
        }
      ],
      "source": [
        "details_profile_int_dr[details_profile_int_dr['core_earning']<5000]['core_earning'].hist(bins=100)"
      ]
    },
    {
      "cell_type": "code",
      "execution_count": null,
      "id": "359c6882",
      "metadata": {
        "scrolled": true,
        "id": "359c6882",
        "outputId": "7f35a25b-d35e-4e52-c215-25a3913a924c",
        "colab": {
          "base_uri": "https://localhost:8080/",
          "height": 282
        }
      },
      "outputs": [
        {
          "output_type": "execute_result",
          "data": {
            "text/plain": [
              "<matplotlib.axes._subplots.AxesSubplot at 0x7f4ef7f7dca0>"
            ]
          },
          "metadata": {},
          "execution_count": 566
        },
        {
          "output_type": "display_data",
          "data": {
            "text/plain": [
              "<Figure size 432x288 with 1 Axes>"
            ],
            "image/png": "[encoded data removed]"
          },
          "metadata": {
            "needs_background": "light"
          }
        }
      ],
      "source": [
        "details_profile_int_dr['active_days'].hist(bins=100)"
      ]
    },
    {
      "cell_type": "code",
      "execution_count": null,
      "id": "1a288b70",
      "metadata": {
        "id": "1a288b70",
        "outputId": "09278f3c-9c45-4e77-ccbf-89c300d38dcc",
        "colab": {
          "base_uri": "https://localhost:8080/",
          "height": 282
        }
      },
      "outputs": [
        {
          "output_type": "execute_result",
          "data": {
            "text/plain": [
              "<matplotlib.axes._subplots.AxesSubplot at 0x7f4ef7e61130>"
            ]
          },
          "metadata": {},
          "execution_count": 567
        },
        {
          "output_type": "display_data",
          "data": {
            "text/plain": [
              "<Figure size 432x288 with 1 Axes>"
            ],
            "image/png": "[encoded data removed]"
          },
          "metadata": {
            "needs_background": "light"
          }
        }
      ],
      "source": [
        "details_profile_int_dr['age_in_days'].hist(bins=100)"
      ]
    },
    {
      "cell_type": "code",
      "execution_count": null,
      "id": "811b994a",
      "metadata": {
        "id": "811b994a",
        "outputId": "764efe2c-6091-460c-8bbc-5a8fa312aa09",
        "colab": {
          "base_uri": "https://localhost:8080/",
          "height": 282
        }
      },
      "outputs": [
        {
          "output_type": "execute_result",
          "data": {
            "text/plain": [
              "<matplotlib.axes._subplots.AxesSubplot at 0x7f4ef7e13dc0>"
            ]
          },
          "metadata": {},
          "execution_count": 568
        },
        {
          "output_type": "display_data",
          "data": {
            "text/plain": [
              "<Figure size 432x288 with 1 Axes>"
            ],
            "image/png": "[encoded data removed]"
          },
          "metadata": {
            "needs_background": "light"
          }
        }
      ],
      "source": [
        "details_profile_int_dr['booking_count'].hist(bins=100)"
      ]
    },
    {
      "cell_type": "code",
      "execution_count": null,
      "id": "2ca0b3f2",
      "metadata": {
        "id": "2ca0b3f2",
        "outputId": "81c333e0-5c07-4007-bf77-496dd32b723e",
        "colab": {
          "base_uri": "https://localhost:8080/",
          "height": 282
        }
      },
      "outputs": [
        {
          "output_type": "execute_result",
          "data": {
            "text/plain": [
              "<matplotlib.axes._subplots.AxesSubplot at 0x7f4ef7b99be0>"
            ]
          },
          "metadata": {},
          "execution_count": 569
        },
        {
          "output_type": "display_data",
          "data": {
            "text/plain": [
              "<Figure size 432x288 with 1 Axes>"
            ],
            "image/png": "[encoded data removed]"
          },
          "metadata": {
            "needs_background": "light"
          }
        }
      ],
      "source": [
        "details_profile_int_dr[details_profile_int_dr['booking_count']<400]['booking_count'].hist(bins=100)"
      ]
    },
    {
      "cell_type": "code",
      "execution_count": null,
      "id": "7b9fb1b4",
      "metadata": {
        "id": "7b9fb1b4",
        "outputId": "013e38ea-45a5-4c38-eb04-c0672d418de8",
        "colab": {
          "base_uri": "https://localhost:8080/",
          "height": 282
        }
      },
      "outputs": [
        {
          "output_type": "execute_result",
          "data": {
            "text/plain": [
              "<matplotlib.axes._subplots.AxesSubplot at 0x7f4ef7a690a0>"
            ]
          },
          "metadata": {},
          "execution_count": 570
        },
        {
          "output_type": "display_data",
          "data": {
            "text/plain": [
              "<Figure size 432x288 with 1 Axes>"
            ],
            "image/png": "[encoded data removed]"
          },
          "metadata": {
            "needs_background": "light"
          }
        }
      ],
      "source": [
        "details_user['profile_views'].hist(bins=100)"
      ]
    },
    {
      "cell_type": "code",
      "execution_count": null,
      "id": "38a4be86",
      "metadata": {
        "scrolled": true,
        "id": "38a4be86",
        "outputId": "a8a21618-9ca0-404a-fd51-bbf57ff5fd6b",
        "colab": {
          "base_uri": "https://localhost:8080/",
          "height": 282
        }
      },
      "outputs": [
        {
          "output_type": "execute_result",
          "data": {
            "text/plain": [
              "<matplotlib.axes._subplots.AxesSubplot at 0x7f4ef78bc760>"
            ]
          },
          "metadata": {},
          "execution_count": 571
        },
        {
          "output_type": "display_data",
          "data": {
            "text/plain": [
              "<Figure size 432x288 with 1 Axes>"
            ],
            "image/png": "[encoded data removed]"
          },
          "metadata": {
            "needs_background": "light"
          }
        }
      ],
      "source": [
        "details_user[details_user['profile_views']<2500]['profile_views'].hist(bins=100)"
      ]
    },
    {
      "cell_type": "code",
      "execution_count": null,
      "id": "9995d6cb",
      "metadata": {
        "id": "9995d6cb",
        "outputId": "901badc3-f3b8-47ce-d8c5-cc86c2b51dde",
        "colab": {
          "base_uri": "https://localhost:8080/",
          "height": 268
        }
      },
      "outputs": [
        {
          "output_type": "execute_result",
          "data": {
            "text/plain": [
              "   booking_count  age_in_days  core_earning  active_days     followers  \\\n",
              "0         3107.0        367.0      138293.0        360.0   6705.000000   \n",
              "1         1743.0        353.0       31437.0        353.0   8619.000000   \n",
              "2         1624.0        271.0       18275.0        271.0  20619.957204   \n",
              "3         1585.0         59.0        1782.0         59.0   8701.845218   \n",
              "4          862.0         52.0        9050.0         52.0   1363.000000   \n",
              "\n",
              "   company tier numerical  college tier numerical  years of experience  \\\n",
              "0                     5.0                     7.0                  5.0   \n",
              "1                     5.0                     6.0                 12.0   \n",
              "2                     5.0                     6.0                  4.0   \n",
              "3                     5.0                     5.0                  3.0   \n",
              "4                     8.0                     7.0                  2.0   \n",
              "\n",
              "   # of posts/week  avg engagement per post last 30 days  \\\n",
              "0         1.166667                             13.000000   \n",
              "1         2.836936                            155.766060   \n",
              "2         2.777625                            185.883403   \n",
              "3         2.401853                             80.361750   \n",
              "4         0.000000                              0.000000   \n",
              "\n",
              "   # of Posts last 30 days  # of Comments last 30 days  \\\n",
              "0                 1.000000                    0.000000   \n",
              "1                 4.914843                    1.190502   \n",
              "2                 4.293077                    1.250093   \n",
              "3                 3.076529                    0.475918   \n",
              "4                 0.000000                    0.000000   \n",
              "\n",
              "   # of Reactions last 30 days  gender_score  # of promotional posts  \\\n",
              "0                     0.000000           1.0                1.000000   \n",
              "1                     2.629054           1.0                3.612194   \n",
              "2                     2.667245           1.0                3.415630   \n",
              "3                     1.471971           0.0                2.910151   \n",
              "4                     0.000000           0.0                0.000000   \n",
              "\n",
              "   target_score  \n",
              "0           1.0  \n",
              "1           1.0  \n",
              "2           1.0  \n",
              "3           1.0  \n",
              "4           1.0  "
            ],
            "text/html": [
              "\n",
              "  <div id=\"df-d20e9dbb-f8ef-48e3-babb-969a2c069a73\">\n",
              "    <div class=\"colab-df-container\">\n",
              "      <div>\n",
              "<style scoped>\n",
              "    .dataframe tbody tr th:only-of-type {\n",
              "        vertical-align: middle;\n",
              "    }\n",
              "\n",
              "    .dataframe tbody tr th {\n",
              "        vertical-align: top;\n",
              "    }\n",
              "\n",
              "    .dataframe thead th {\n",
              "        text-align: right;\n",
              "    }\n",
              "</style>\n",
              "<table border=\"1\" class=\"dataframe\">\n",
              "  <thead>\n",
              "    <tr style=\"text-align: right;\">\n",
              "      <th></th>\n",
              "      <th>booking_count</th>\n",
              "      <th>age_in_days</th>\n",
              "      <th>core_earning</th>\n",
              "      <th>active_days</th>\n",
              "      <th>followers</th>\n",
              "      <th>company tier numerical</th>\n",
              "      <th>college tier numerical</th>\n",
              "      <th>years of experience</th>\n",
              "      <th># of posts/week</th>\n",
              "      <th>avg engagement per post last 30 days</th>\n",
              "      <th># of Posts last 30 days</th>\n",
              "      <th># of Comments last 30 days</th>\n",
              "      <th># of Reactions last 30 days</th>\n",
              "      <th>gender_score</th>\n",
              "      <th># of promotional posts</th>\n",
              "      <th>target_score</th>\n",
              "    </tr>\n",
              "  </thead>\n",
              "  <tbody>\n",
              "    <tr>\n",
              "      <th>0</th>\n",
              "      <td>3107.0</td>\n",
              "      <td>367.0</td>\n",
              "      <td>138293.0</td>\n",
              "      <td>360.0</td>\n",
              "      <td>6705.000000</td>\n",
              "      <td>5.0</td>\n",
              "      <td>7.0</td>\n",
              "      <td>5.0</td>\n",
              "      <td>1.166667</td>\n",
              "      <td>13.000000</td>\n",
              "      <td>1.000000</td>\n",
              "      <td>0.000000</td>\n",
              "      <td>0.000000</td>\n",
              "      <td>1.0</td>\n",
              "      <td>1.000000</td>\n",
              "      <td>1.0</td>\n",
              "    </tr>\n",
              "    <tr>\n",
              "      <th>1</th>\n",
              "      <td>1743.0</td>\n",
              "      <td>353.0</td>\n",
              "      <td>31437.0</td>\n",
              "      <td>353.0</td>\n",
              "      <td>8619.000000</td>\n",
              "      <td>5.0</td>\n",
              "      <td>6.0</td>\n",
              "      <td>12.0</td>\n",
              "      <td>2.836936</td>\n",
              "      <td>155.766060</td>\n",
              "      <td>4.914843</td>\n",
              "      <td>1.190502</td>\n",
              "      <td>2.629054</td>\n",
              "      <td>1.0</td>\n",
              "      <td>3.612194</td>\n",
              "      <td>1.0</td>\n",
              "    </tr>\n",
              "    <tr>\n",
              "      <th>2</th>\n",
              "      <td>1624.0</td>\n",
              "      <td>271.0</td>\n",
              "      <td>18275.0</td>\n",
              "      <td>271.0</td>\n",
              "      <td>20619.957204</td>\n",
              "      <td>5.0</td>\n",
              "      <td>6.0</td>\n",
              "      <td>4.0</td>\n",
              "      <td>2.777625</td>\n",
              "      <td>185.883403</td>\n",
              "      <td>4.293077</td>\n",
              "      <td>1.250093</td>\n",
              "      <td>2.667245</td>\n",
              "      <td>1.0</td>\n",
              "      <td>3.415630</td>\n",
              "      <td>1.0</td>\n",
              "    </tr>\n",
              "    <tr>\n",
              "      <th>3</th>\n",
              "      <td>1585.0</td>\n",
              "      <td>59.0</td>\n",
              "      <td>1782.0</td>\n",
              "      <td>59.0</td>\n",
              "      <td>8701.845218</td>\n",
              "      <td>5.0</td>\n",
              "      <td>5.0</td>\n",
              "      <td>3.0</td>\n",
              "      <td>2.401853</td>\n",
              "      <td>80.361750</td>\n",
              "      <td>3.076529</td>\n",
              "      <td>0.475918</td>\n",
              "      <td>1.471971</td>\n",
              "      <td>0.0</td>\n",
              "      <td>2.910151</td>\n",
              "      <td>1.0</td>\n",
              "    </tr>\n",
              "    <tr>\n",
              "      <th>4</th>\n",
              "      <td>862.0</td>\n",
              "      <td>52.0</td>\n",
              "      <td>9050.0</td>\n",
              "      <td>52.0</td>\n",
              "      <td>1363.000000</td>\n",
              "      <td>8.0</td>\n",
              "      <td>7.0</td>\n",
              "      <td>2.0</td>\n",
              "      <td>0.000000</td>\n",
              "      <td>0.000000</td>\n",
              "      <td>0.000000</td>\n",
              "      <td>0.000000</td>\n",
              "      <td>0.000000</td>\n",
              "      <td>0.0</td>\n",
              "      <td>0.000000</td>\n",
              "      <td>1.0</td>\n",
              "    </tr>\n",
              "  </tbody>\n",
              "</table>\n",
              "</div>\n",
              "      <button class=\"colab-df-convert\" onclick=\"convertToInteractive('df-d20e9dbb-f8ef-48e3-babb-969a2c069a73')\"\n",
              "              title=\"Convert this dataframe to an interactive table.\"\n",
              "              style=\"display:none;\">\n",
              "        \n",
              "  <svg xmlns=\"http://www.w3.org/2000/svg\" height=\"24px\"viewBox=\"0 0 24 24\"\n",
              "       width=\"24px\">\n",
              "    <path d=\"M0 0h24v24H0V0z\" fill=\"none\"/>\n",
              "    <path d=\"M18.56 5.44l.94 2.06.94-2.06 2.06-.94-2.06-.94-.94-2.06-.94 2.06-2.06.94zm-11 1L8.5 8.5l.94-2.06 2.06-.94-2.06-.94L8.5 2.5l-.94 2.06-2.06.94zm10 10l.94 2.06.94-2.06 2.06-.94-2.06-.94-.94-2.06-.94 2.06-2.06.94z\"/><path d=\"M17.41 7.96l-1.37-1.37c-.4-.4-.92-.59-1.43-.59-.52 0-1.04.2-1.43.59L10.3 9.45l-7.72 7.72c-.78.78-.78 2.05 0 2.83L4 21.41c.39.39.9.59 1.41.59.51 0 1.02-.2 1.41-.59l7.78-7.78 2.81-2.81c.8-.78.8-2.07 0-2.86zM5.41 20L4 18.59l7.72-7.72 1.47 1.35L5.41 20z\"/>\n",
              "  </svg>\n",
              "      </button>\n",
              "      \n",
              "  <style>\n",
              "    .colab-df-container {\n",
              "      display:flex;\n",
              "      flex-wrap:wrap;\n",
              "      gap: 12px;\n",
              "    }\n",
              "\n",
              "    .colab-df-convert {\n",
              "      background-color: #E8F0FE;\n",
              "      border: none;\n",
              "      border-radius: 50%;\n",
              "      cursor: pointer;\n",
              "      display: none;\n",
              "      fill: #1967D2;\n",
              "      height: 32px;\n",
              "      padding: 0 0 0 0;\n",
              "      width: 32px;\n",
              "    }\n",
              "\n",
              "    .colab-df-convert:hover {\n",
              "      background-color: #E2EBFA;\n",
              "      box-shadow: 0px 1px 2px rgba(60, 64, 67, 0.3), 0px 1px 3px 1px rgba(60, 64, 67, 0.15);\n",
              "      fill: #174EA6;\n",
              "    }\n",
              "\n",
              "    [theme=dark] .colab-df-convert {\n",
              "      background-color: #3B4455;\n",
              "      fill: #D2E3FC;\n",
              "    }\n",
              "\n",
              "    [theme=dark] .colab-df-convert:hover {\n",
              "      background-color: #434B5C;\n",
              "      box-shadow: 0px 1px 3px 1px rgba(0, 0, 0, 0.15);\n",
              "      filter: drop-shadow(0px 1px 2px rgba(0, 0, 0, 0.3));\n",
              "      fill: #FFFFFF;\n",
              "    }\n",
              "  </style>\n",
              "\n",
              "      <script>\n",
              "        const buttonEl =\n",
              "          document.querySelector('#df-d20e9dbb-f8ef-48e3-babb-969a2c069a73 button.colab-df-convert');\n",
              "        buttonEl.style.display =\n",
              "          google.colab.kernel.accessAllowed ? 'block' : 'none';\n",
              "\n",
              "        async function convertToInteractive(key) {\n",
              "          const element = document.querySelector('#df-d20e9dbb-f8ef-48e3-babb-969a2c069a73');\n",
              "          const dataTable =\n",
              "            await google.colab.kernel.invokeFunction('convertToInteractive',\n",
              "                                                     [key], {});\n",
              "          if (!dataTable) return;\n",
              "\n",
              "          const docLinkHtml = 'Like what you see? Visit the ' +\n",
              "            '<a target=\"_blank\" href=https://colab.research.google.com/notebooks/data_table.ipynb>data table notebook</a>'\n",
              "            + ' to learn more about interactive tables.';\n",
              "          element.innerHTML = '';\n",
              "          dataTable['output_type'] = 'display_data';\n",
              "          await google.colab.output.renderOutput(dataTable, element);\n",
              "          const docLink = document.createElement('div');\n",
              "          docLink.innerHTML = docLinkHtml;\n",
              "          element.appendChild(docLink);\n",
              "        }\n",
              "      </script>\n",
              "    </div>\n",
              "  </div>\n",
              "  "
            ]
          },
          "metadata": {},
          "execution_count": 572
        }
      ],
      "source": [
        "details = details_profile_int_dr\n",
        "details.head()"
      ]
    },
    {
      "cell_type": "code",
      "execution_count": null,
      "id": "a0d1d84e",
      "metadata": {
        "scrolled": true,
        "id": "a0d1d84e",
        "outputId": "1ae7ba48-4f7f-4cb9-fdfd-e9c4fc27a402",
        "colab": {
          "base_uri": "https://localhost:8080/",
          "height": 362
        }
      },
      "outputs": [
        {
          "output_type": "execute_result",
          "data": {
            "text/plain": [
              "       booking_count  age_in_days   core_earning  active_days      followers  \\\n",
              "count    2478.000000  2478.000000    2478.000000  2478.000000    2478.000000   \n",
              "mean       14.823245    50.011299    2627.464891    48.302260    9617.237715   \n",
              "std        91.945523    85.964183   16697.330980    84.562023   21608.838633   \n",
              "min         1.000000     0.000000       0.000000     1.000000       0.000000   \n",
              "25%         1.000000     0.000000       0.000000     1.000000    2202.000000   \n",
              "50%         2.000000     5.000000       0.000000     3.000000    6951.258954   \n",
              "75%         9.000000    64.000000     499.750000    59.000000    9045.637449   \n",
              "max      3107.000000   475.000000  503395.000000   473.000000  504239.000000   \n",
              "\n",
              "       company tier numerical  college tier numerical  years of experience  \\\n",
              "count             2478.000000             2478.000000          2478.000000   \n",
              "mean                 8.166190                7.908506             5.051163   \n",
              "std                  1.129338                0.973191             3.486106   \n",
              "min                  1.000000                1.000000             0.000000   \n",
              "25%                  8.000000                7.000000             3.000000   \n",
              "50%                  8.000000                7.959158             5.017584   \n",
              "75%                  8.315324                8.000000             5.212004   \n",
              "max                 10.000000               10.000000            35.000000   \n",
              "\n",
              "       # of posts/week  avg engagement per post last 30 days  \\\n",
              "count      2478.000000                           2478.000000   \n",
              "mean          1.202675                             87.780304   \n",
              "std           1.985341                            318.326234   \n",
              "min           0.000000                              0.000000   \n",
              "25%           0.000000                              0.000000   \n",
              "50%           0.875000                             38.250000   \n",
              "75%           1.193657                             68.869590   \n",
              "max          28.000000                           9876.000000   \n",
              "\n",
              "       # of Posts last 30 days  # of Comments last 30 days  \\\n",
              "count              2478.000000                 2478.000000   \n",
              "mean                  3.015248                    1.169857   \n",
              "std                   5.466908                    2.345759   \n",
              "min                   0.000000                    0.000000   \n",
              "25%                   0.000000                    0.000000   \n",
              "50%                   2.000000                    0.894590   \n",
              "75%                   3.030426                    1.014109   \n",
              "max                  65.000000                   36.000000   \n",
              "\n",
              "       # of Reactions last 30 days  gender_score  # of promotional posts  \\\n",
              "count                  2478.000000   2478.000000             2478.000000   \n",
              "mean                      1.037351      0.804681                1.019096   \n",
              "std                       2.476011      0.396526                2.247521   \n",
              "min                       0.000000      0.000000                0.000000   \n",
              "25%                       0.000000      1.000000                0.000000   \n",
              "50%                       0.000000      1.000000                0.679582   \n",
              "75%                       1.000000      1.000000                1.000000   \n",
              "max                      35.000000      1.000000               35.000000   \n",
              "\n",
              "       target_score  \n",
              "count   2478.000000  \n",
              "mean       0.718867  \n",
              "std        0.246194  \n",
              "min        0.500000  \n",
              "25%        0.500000  \n",
              "50%        0.500000  \n",
              "75%        1.000000  \n",
              "max        1.000000  "
            ],
            "text/html": [
              "\n",
              "  <div id=\"df-4bb0a7f4-9676-4d7a-b837-57fde0998b72\">\n",
              "    <div class=\"colab-df-container\">\n",
              "      <div>\n",
              "<style scoped>\n",
              "    .dataframe tbody tr th:only-of-type {\n",
              "        vertical-align: middle;\n",
              "    }\n",
              "\n",
              "    .dataframe tbody tr th {\n",
              "        vertical-align: top;\n",
              "    }\n",
              "\n",
              "    .dataframe thead th {\n",
              "        text-align: right;\n",
              "    }\n",
              "</style>\n",
              "<table border=\"1\" class=\"dataframe\">\n",
              "  <thead>\n",
              "    <tr style=\"text-align: right;\">\n",
              "      <th></th>\n",
              "      <th>booking_count</th>\n",
              "      <th>age_in_days</th>\n",
              "      <th>core_earning</th>\n",
              "      <th>active_days</th>\n",
              "      <th>followers</th>\n",
              "      <th>company tier numerical</th>\n",
              "      <th>college tier numerical</th>\n",
              "      <th>years of experience</th>\n",
              "      <th># of posts/week</th>\n",
              "      <th>avg engagement per post last 30 days</th>\n",
              "      <th># of Posts last 30 days</th>\n",
              "      <th># of Comments last 30 days</th>\n",
              "      <th># of Reactions last 30 days</th>\n",
              "      <th>gender_score</th>\n",
              "      <th># of promotional posts</th>\n",
              "      <th>target_score</th>\n",
              "    </tr>\n",
              "  </thead>\n",
              "  <tbody>\n",
              "    <tr>\n",
              "      <th>count</th>\n",
              "      <td>2478.000000</td>\n",
              "      <td>2478.000000</td>\n",
              "      <td>2478.000000</td>\n",
              "      <td>2478.000000</td>\n",
              "      <td>2478.000000</td>\n",
              "      <td>2478.000000</td>\n",
              "      <td>2478.000000</td>\n",
              "      <td>2478.000000</td>\n",
              "      <td>2478.000000</td>\n",
              "      <td>2478.000000</td>\n",
              "      <td>2478.000000</td>\n",
              "      <td>2478.000000</td>\n",
              "      <td>2478.000000</td>\n",
              "      <td>2478.000000</td>\n",
              "      <td>2478.000000</td>\n",
              "      <td>2478.000000</td>\n",
              "    </tr>\n",
              "    <tr>\n",
              "      <th>mean</th>\n",
              "      <td>14.823245</td>\n",
              "      <td>50.011299</td>\n",
              "      <td>2627.464891</td>\n",
              "      <td>48.302260</td>\n",
              "      <td>9617.237715</td>\n",
              "      <td>8.166190</td>\n",
              "      <td>7.908506</td>\n",
              "      <td>5.051163</td>\n",
              "      <td>1.202675</td>\n",
              "      <td>87.780304</td>\n",
              "      <td>3.015248</td>\n",
              "      <td>1.169857</td>\n",
              "      <td>1.037351</td>\n",
              "      <td>0.804681</td>\n",
              "      <td>1.019096</td>\n",
              "      <td>0.718867</td>\n",
              "    </tr>\n",
              "    <tr>\n",
              "      <th>std</th>\n",
              "      <td>91.945523</td>\n",
              "      <td>85.964183</td>\n",
              "      <td>16697.330980</td>\n",
              "      <td>84.562023</td>\n",
              "      <td>21608.838633</td>\n",
              "      <td>1.129338</td>\n",
              "      <td>0.973191</td>\n",
              "      <td>3.486106</td>\n",
              "      <td>1.985341</td>\n",
              "      <td>318.326234</td>\n",
              "      <td>5.466908</td>\n",
              "      <td>2.345759</td>\n",
              "      <td>2.476011</td>\n",
              "      <td>0.396526</td>\n",
              "      <td>2.247521</td>\n",
              "      <td>0.246194</td>\n",
              "    </tr>\n",
              "    <tr>\n",
              "      <th>min</th>\n",
              "      <td>1.000000</td>\n",
              "      <td>0.000000</td>\n",
              "      <td>0.000000</td>\n",
              "      <td>1.000000</td>\n",
              "      <td>0.000000</td>\n",
              "      <td>1.000000</td>\n",
              "      <td>1.000000</td>\n",
              "      <td>0.000000</td>\n",
              "      <td>0.000000</td>\n",
              "      <td>0.000000</td>\n",
              "      <td>0.000000</td>\n",
              "      <td>0.000000</td>\n",
              "      <td>0.000000</td>\n",
              "      <td>0.000000</td>\n",
              "      <td>0.000000</td>\n",
              "      <td>0.500000</td>\n",
              "    </tr>\n",
              "    <tr>\n",
              "      <th>25%</th>\n",
              "      <td>1.000000</td>\n",
              "      <td>0.000000</td>\n",
              "      <td>0.000000</td>\n",
              "      <td>1.000000</td>\n",
              "      <td>2202.000000</td>\n",
              "      <td>8.000000</td>\n",
              "      <td>7.000000</td>\n",
              "      <td>3.000000</td>\n",
              "      <td>0.000000</td>\n",
              "      <td>0.000000</td>\n",
              "      <td>0.000000</td>\n",
              "      <td>0.000000</td>\n",
              "      <td>0.000000</td>\n",
              "      <td>1.000000</td>\n",
              "      <td>0.000000</td>\n",
              "      <td>0.500000</td>\n",
              "    </tr>\n",
              "    <tr>\n",
              "      <th>50%</th>\n",
              "      <td>2.000000</td>\n",
              "      <td>5.000000</td>\n",
              "      <td>0.000000</td>\n",
              "      <td>3.000000</td>\n",
              "      <td>6951.258954</td>\n",
              "      <td>8.000000</td>\n",
              "      <td>7.959158</td>\n",
              "      <td>5.017584</td>\n",
              "      <td>0.875000</td>\n",
              "      <td>38.250000</td>\n",
              "      <td>2.000000</td>\n",
              "      <td>0.894590</td>\n",
              "      <td>0.000000</td>\n",
              "      <td>1.000000</td>\n",
              "      <td>0.679582</td>\n",
              "      <td>0.500000</td>\n",
              "    </tr>\n",
              "    <tr>\n",
              "      <th>75%</th>\n",
              "      <td>9.000000</td>\n",
              "      <td>64.000000</td>\n",
              "      <td>499.750000</td>\n",
              "      <td>59.000000</td>\n",
              "      <td>9045.637449</td>\n",
              "      <td>8.315324</td>\n",
              "      <td>8.000000</td>\n",
              "      <td>5.212004</td>\n",
              "      <td>1.193657</td>\n",
              "      <td>68.869590</td>\n",
              "      <td>3.030426</td>\n",
              "      <td>1.014109</td>\n",
              "      <td>1.000000</td>\n",
              "      <td>1.000000</td>\n",
              "      <td>1.000000</td>\n",
              "      <td>1.000000</td>\n",
              "    </tr>\n",
              "    <tr>\n",
              "      <th>max</th>\n",
              "      <td>3107.000000</td>\n",
              "      <td>475.000000</td>\n",
              "      <td>503395.000000</td>\n",
              "      <td>473.000000</td>\n",
              "      <td>504239.000000</td>\n",
              "      <td>10.000000</td>\n",
              "      <td>10.000000</td>\n",
              "      <td>35.000000</td>\n",
              "      <td>28.000000</td>\n",
              "      <td>9876.000000</td>\n",
              "      <td>65.000000</td>\n",
              "      <td>36.000000</td>\n",
              "      <td>35.000000</td>\n",
              "      <td>1.000000</td>\n",
              "      <td>35.000000</td>\n",
              "      <td>1.000000</td>\n",
              "    </tr>\n",
              "  </tbody>\n",
              "</table>\n",
              "</div>\n",
              "      <button class=\"colab-df-convert\" onclick=\"convertToInteractive('df-4bb0a7f4-9676-4d7a-b837-57fde0998b72')\"\n",
              "              title=\"Convert this dataframe to an interactive table.\"\n",
              "              style=\"display:none;\">\n",
              "        \n",
              "  <svg xmlns=\"http://www.w3.org/2000/svg\" height=\"24px\"viewBox=\"0 0 24 24\"\n",
              "       width=\"24px\">\n",
              "    <path d=\"M0 0h24v24H0V0z\" fill=\"none\"/>\n",
              "    <path d=\"M18.56 5.44l.94 2.06.94-2.06 2.06-.94-2.06-.94-.94-2.06-.94 2.06-2.06.94zm-11 1L8.5 8.5l.94-2.06 2.06-.94-2.06-.94L8.5 2.5l-.94 2.06-2.06.94zm10 10l.94 2.06.94-2.06 2.06-.94-2.06-.94-.94-2.06-.94 2.06-2.06.94z\"/><path d=\"M17.41 7.96l-1.37-1.37c-.4-.4-.92-.59-1.43-.59-.52 0-1.04.2-1.43.59L10.3 9.45l-7.72 7.72c-.78.78-.78 2.05 0 2.83L4 21.41c.39.39.9.59 1.41.59.51 0 1.02-.2 1.41-.59l7.78-7.78 2.81-2.81c.8-.78.8-2.07 0-2.86zM5.41 20L4 18.59l7.72-7.72 1.47 1.35L5.41 20z\"/>\n",
              "  </svg>\n",
              "      </button>\n",
              "      \n",
              "  <style>\n",
              "    .colab-df-container {\n",
              "      display:flex;\n",
              "      flex-wrap:wrap;\n",
              "      gap: 12px;\n",
              "    }\n",
              "\n",
              "    .colab-df-convert {\n",
              "      background-color: #E8F0FE;\n",
              "      border: none;\n",
              "      border-radius: 50%;\n",
              "      cursor: pointer;\n",
              "      display: none;\n",
              "      fill: #1967D2;\n",
              "      height: 32px;\n",
              "      padding: 0 0 0 0;\n",
              "      width: 32px;\n",
              "    }\n",
              "\n",
              "    .colab-df-convert:hover {\n",
              "      background-color: #E2EBFA;\n",
              "      box-shadow: 0px 1px 2px rgba(60, 64, 67, 0.3), 0px 1px 3px 1px rgba(60, 64, 67, 0.15);\n",
              "      fill: #174EA6;\n",
              "    }\n",
              "\n",
              "    [theme=dark] .colab-df-convert {\n",
              "      background-color: #3B4455;\n",
              "      fill: #D2E3FC;\n",
              "    }\n",
              "\n",
              "    [theme=dark] .colab-df-convert:hover {\n",
              "      background-color: #434B5C;\n",
              "      box-shadow: 0px 1px 3px 1px rgba(0, 0, 0, 0.15);\n",
              "      filter: drop-shadow(0px 1px 2px rgba(0, 0, 0, 0.3));\n",
              "      fill: #FFFFFF;\n",
              "    }\n",
              "  </style>\n",
              "\n",
              "      <script>\n",
              "        const buttonEl =\n",
              "          document.querySelector('#df-4bb0a7f4-9676-4d7a-b837-57fde0998b72 button.colab-df-convert');\n",
              "        buttonEl.style.display =\n",
              "          google.colab.kernel.accessAllowed ? 'block' : 'none';\n",
              "\n",
              "        async function convertToInteractive(key) {\n",
              "          const element = document.querySelector('#df-4bb0a7f4-9676-4d7a-b837-57fde0998b72');\n",
              "          const dataTable =\n",
              "            await google.colab.kernel.invokeFunction('convertToInteractive',\n",
              "                                                     [key], {});\n",
              "          if (!dataTable) return;\n",
              "\n",
              "          const docLinkHtml = 'Like what you see? Visit the ' +\n",
              "            '<a target=\"_blank\" href=https://colab.research.google.com/notebooks/data_table.ipynb>data table notebook</a>'\n",
              "            + ' to learn more about interactive tables.';\n",
              "          element.innerHTML = '';\n",
              "          dataTable['output_type'] = 'display_data';\n",
              "          await google.colab.output.renderOutput(dataTable, element);\n",
              "          const docLink = document.createElement('div');\n",
              "          docLink.innerHTML = docLinkHtml;\n",
              "          element.appendChild(docLink);\n",
              "        }\n",
              "      </script>\n",
              "    </div>\n",
              "  </div>\n",
              "  "
            ]
          },
          "metadata": {},
          "execution_count": 573
        }
      ],
      "source": [
        "details_profile_int_dr.describe()"
      ]
    },
    {
      "cell_type": "code",
      "source": [
        "plt.figure(figsize=(15,15))\n",
        "sns.heatmap(details_profile_int_dr.corr(),annot=True)"
      ],
      "metadata": {
        "colab": {
          "base_uri": "https://localhost:8080/",
          "height": 1000
        },
        "id": "K_vxrjyVD8BB",
        "outputId": "f243768d-903c-46ed-a2b7-933b160ccf90"
      },
      "execution_count": null,
      "outputs": [
        {
          "output_type": "execute_result",
          "data": {
            "text/plain": [
              "<matplotlib.axes._subplots.AxesSubplot at 0x7f4ef78904f0>"
            ]
          },
          "metadata": {},
          "execution_count": 574
        },
        {
          "output_type": "display_data",
          "data": {
            "text/plain": [
              "<Figure size 1080x1080 with 2 Axes>"
            ],
            "image/png": "[encoded data removed]"
          },
          "metadata": {
            "needs_background": "light"
          }
        }
      ],
      "id": "K_vxrjyVD8BB"
    },
    {
      "cell_type": "code",
      "execution_count": null,
      "id": "8cb35dc9",
      "metadata": {
        "id": "8cb35dc9",
        "outputId": "29d8c216-8742-448d-db1c-4dc5bfd55564",
        "colab": {
          "base_uri": "https://localhost:8080/",
          "height": 280
        }
      },
      "outputs": [
        {
          "output_type": "display_data",
          "data": {
            "text/plain": [
              "<Figure size 432x288 with 1 Axes>"
            ],
            "image/png": "[encoded data removed]"
          },
          "metadata": {
            "needs_background": "light"
          }
        }
      ],
      "source": [
        "sns.countplot(x='gender_score',data=details_profile_int_dr)\n",
        "plt.grid()\n",
        "#Male:Female~4:1\n",
        "#Highlights Gender Imbalance in the dataset"
      ]
    },
    {
      "cell_type": "code",
      "execution_count": null,
      "id": "5a944b24",
      "metadata": {
        "scrolled": true,
        "id": "5a944b24",
        "outputId": "57bd33da-8b43-4d2c-9aa7-094227def7ad",
        "colab": {
          "base_uri": "https://localhost:8080/",
          "height": 268
        }
      },
      "outputs": [
        {
          "output_type": "display_data",
          "data": {
            "text/plain": [
              "<Figure size 432x288 with 1 Axes>"
            ],
            "image/png": "[encoded data removed]"
          },
          "metadata": {
            "needs_background": "light"
          }
        }
      ],
      "source": [
        "#sns.displot(x='booking_count',data=details_profile_int_dr)\n",
        "plt.hist(details_profile_int_dr['booking_count'],bins=50)\n",
        "plt.grid()\n"
      ]
    },
    {
      "cell_type": "code",
      "execution_count": null,
      "id": "e57addae",
      "metadata": {
        "id": "e57addae",
        "outputId": "4f37ffb5-02ae-49a8-dee3-6c09992fd2d3",
        "colab": {
          "base_uri": "https://localhost:8080/",
          "height": 268
        }
      },
      "outputs": [
        {
          "output_type": "display_data",
          "data": {
            "text/plain": [
              "<Figure size 432x288 with 1 Axes>"
            ],
            "image/png": "[encoded data removed]"
          },
          "metadata": {
            "needs_background": "light"
          }
        }
      ],
      "source": [
        "#sns.displot(x='booking_count',data=details_profile_int_dr)\n",
        "plt.hist(details_profile_int_dr['booking_count'],bins=50)\n",
        "plt.grid()\n"
      ]
    },
    {
      "cell_type": "code",
      "execution_count": null,
      "id": "c430bbd3",
      "metadata": {
        "id": "c430bbd3",
        "outputId": "6c0c58b2-8e70-4131-aa15-94b9e5d49c1b",
        "colab": {
          "base_uri": "https://localhost:8080/"
        }
      },
      "outputs": [
        {
          "output_type": "execute_result",
          "data": {
            "text/plain": [
              "0      6705.000000\n",
              "1      8619.000000\n",
              "2     20619.957204\n",
              "3      8701.845218\n",
              "4      1363.000000\n",
              "5    106015.000000\n",
              "6     18745.000000\n",
              "7      2552.000000\n",
              "8      3369.000000\n",
              "9        52.000000\n",
              "Name: followers, dtype: float64"
            ]
          },
          "metadata": {},
          "execution_count": 578
        }
      ],
      "source": [
        "details_profile_int_dr['followers'].head(10)"
      ]
    },
    {
      "cell_type": "code",
      "execution_count": null,
      "id": "87e2c647",
      "metadata": {
        "id": "87e2c647",
        "outputId": "b0439955-873d-48db-b7af-5206aea1f83b",
        "colab": {
          "base_uri": "https://localhost:8080/"
        }
      },
      "outputs": [
        {
          "output_type": "stream",
          "name": "stdout",
          "text": [
            "<class 'pandas.core.frame.DataFrame'>\n",
            "RangeIndex: 2478 entries, 0 to 2477\n",
            "Data columns (total 16 columns):\n",
            " #   Column                                Non-Null Count  Dtype  \n",
            "---  ------                                --------------  -----  \n",
            " 0   booking_count                         2478 non-null   float64\n",
            " 1   age_in_days                           2478 non-null   float64\n",
            " 2   core_earning                          2478 non-null   float64\n",
            " 3   active_days                           2478 non-null   float64\n",
            " 4   followers                             2478 non-null   float64\n",
            " 5   company tier numerical                2478 non-null   float64\n",
            " 6   college tier numerical                2478 non-null   float64\n",
            " 7   years of experience                   2478 non-null   float64\n",
            " 8   # of posts/week                       2478 non-null   float64\n",
            " 9   avg engagement per post last 30 days  2478 non-null   float64\n",
            " 10  # of Posts last 30 days               2478 non-null   float64\n",
            " 11  # of Comments last 30 days            2478 non-null   float64\n",
            " 12  # of Reactions last 30 days           2478 non-null   float64\n",
            " 13  gender_score                          2478 non-null   float64\n",
            " 14  # of promotional posts                2478 non-null   float64\n",
            " 15  target_score                          2478 non-null   float64\n",
            "dtypes: float64(16)\n",
            "memory usage: 309.9 KB\n"
          ]
        }
      ],
      "source": [
        "details_profile_int_dr.info()"
      ]
    },
    {
      "cell_type": "code",
      "execution_count": null,
      "id": "bd6cb1ec",
      "metadata": {
        "scrolled": true,
        "id": "bd6cb1ec",
        "outputId": "19282123-8cad-46f2-f872-ee6e3e2dd713",
        "colab": {
          "base_uri": "https://localhost:8080/"
        }
      },
      "outputs": [
        {
          "output_type": "execute_result",
          "data": {
            "text/plain": [
              "dtype('float64')"
            ]
          },
          "metadata": {},
          "execution_count": 580
        }
      ],
      "source": [
        "#details_profile_int_dr['followers'] = details_profile_int_dr['followers'].astype('int64')\n",
        "#details_profile_int_dr['company tier numerical'] = details_profile_int_dr['company tier numerical'].astype('int64')\n",
        "#details_profile_int_dr['college tier numerical'] = details_profile_int_dr['college tier numerical'].astype('int64')\n",
        "#details_profile_int_dr['company tier numerical']=details_profile_int_dr['company_tier_numerical'].astype('int64')\n",
        "details_profile_int_dr['company tier numerical'].dtypes"
      ]
    },
    {
      "cell_type": "code",
      "execution_count": null,
      "id": "6227564b",
      "metadata": {
        "id": "6227564b",
        "outputId": "a0e18a36-f702-40d9-c521-690dfe377c07",
        "colab": {
          "base_uri": "https://localhost:8080/",
          "height": 369
        }
      },
      "outputs": [
        {
          "output_type": "display_data",
          "data": {
            "text/plain": [
              "<Figure size 360x360 with 1 Axes>"
            ],
            "image/png": "[encoded data removed]"
          },
          "metadata": {
            "needs_background": "light"
          }
        }
      ],
      "source": [
        "#plt.hist(details_profile_int_dr['followers'],bins=10)\n",
        "sns.displot(details_profile_int_dr,x='followers',binwidth=56000,bins=10)\n",
        "plt.grid()"
      ]
    },
    {
      "cell_type": "code",
      "execution_count": null,
      "id": "d3014eff",
      "metadata": {
        "id": "d3014eff",
        "outputId": "52f6b44d-bb2d-4173-ffd3-8f9a3ffd350d",
        "colab": {
          "base_uri": "https://localhost:8080/"
        }
      },
      "outputs": [
        {
          "output_type": "execute_result",
          "data": {
            "text/plain": [
              "Index(['booking_count', 'age_in_days', 'core_earning', 'active_days',\n",
              "       'followers', 'company tier numerical', 'college tier numerical',\n",
              "       'years of experience', '# of posts/week',\n",
              "       'avg engagement per post last 30 days', '# of Posts last 30 days',\n",
              "       '# of Comments last 30 days', '# of Reactions last 30 days',\n",
              "       'gender_score', '# of promotional posts', 'target_score'],\n",
              "      dtype='object')"
            ]
          },
          "metadata": {},
          "execution_count": 582
        }
      ],
      "source": [
        "details_profile_int_dr.columns"
      ]
    },
    {
      "cell_type": "markdown",
      "id": "0bddab47",
      "metadata": {
        "id": "0bddab47"
      },
      "source": [
        "sns.countplot(x='company tier numerical',data=details_profile_int_dr,binwidth=56000,bins=10)\n",
        "plt.grid()"
      ]
    },
    {
      "cell_type": "code",
      "source": [],
      "metadata": {
        "id": "5Ugm72H9eACA"
      },
      "id": "5Ugm72H9eACA",
      "execution_count": null,
      "outputs": []
    },
    {
      "cell_type": "code",
      "execution_count": null,
      "id": "dedaf07a",
      "metadata": {
        "id": "dedaf07a",
        "outputId": "eda10b7a-d750-4032-97b6-e92fa934a652",
        "colab": {
          "base_uri": "https://localhost:8080/",
          "height": 282
        }
      },
      "outputs": [
        {
          "output_type": "execute_result",
          "data": {
            "text/plain": [
              "<matplotlib.axes._subplots.AxesSubplot at 0x7f4ef9097b20>"
            ]
          },
          "metadata": {},
          "execution_count": 583
        },
        {
          "output_type": "display_data",
          "data": {
            "text/plain": [
              "<Figure size 432x288 with 1 Axes>"
            ],
            "image/png": "[encoded data removed]"
          },
          "metadata": {
            "needs_background": "light"
          }
        }
      ],
      "source": [
        "details_profile_int_dr['target_score'].hist()"
      ]
    },
    {
      "cell_type": "markdown",
      "source": [
        "###here we have passed the target through a function to range bound the target\n",
        "ideally if i combine this with username i should atleast be able to see if categorisation of 0/1 is correct for target"
      ],
      "metadata": {
        "id": "z7Y6YuN_edwz"
      },
      "id": "z7Y6YuN_edwz"
    },
    {
      "cell_type": "code",
      "source": [
        "details_profile_int_dr.columns"
      ],
      "metadata": {
        "colab": {
          "base_uri": "https://localhost:8080/"
        },
        "id": "nWlBvFf6eBIg",
        "outputId": "c9dce779-0188-44b0-bca6-bde7d26521a3"
      },
      "id": "nWlBvFf6eBIg",
      "execution_count": null,
      "outputs": [
        {
          "output_type": "execute_result",
          "data": {
            "text/plain": [
              "Index(['booking_count', 'age_in_days', 'core_earning', 'active_days',\n",
              "       'followers', 'company tier numerical', 'college tier numerical',\n",
              "       'years of experience', '# of posts/week',\n",
              "       'avg engagement per post last 30 days', '# of Posts last 30 days',\n",
              "       '# of Comments last 30 days', '# of Reactions last 30 days',\n",
              "       'gender_score', '# of promotional posts', 'target_score'],\n",
              "      dtype='object')"
            ]
          },
          "metadata": {},
          "execution_count": 584
        }
      ]
    },
    {
      "cell_type": "code",
      "source": [
        "details_profile_int_dr.to_csv('ranged_target.csv')"
      ],
      "metadata": {
        "id": "E1kHj5mbgfnE"
      },
      "id": "E1kHj5mbgfnE",
      "execution_count": null,
      "outputs": []
    },
    {
      "cell_type": "code",
      "execution_count": null,
      "metadata": {
        "id": "WHtp3nNcgHrk"
      },
      "outputs": [],
      "source": [
        "# details_user = details_user.dropna()\n",
        "# #len(details_profile_int_dr)"
      ],
      "id": "WHtp3nNcgHrk"
    },
    {
      "cell_type": "code",
      "source": [
        "\n",
        "# t = pd.DataFrame(details_profile_int_dr['target_score'],columns=['ranged_target'])\n",
        "# rt = pd.concat([details_user,t],axis=1,join='inner')\n",
        "# rt.to_csv('ranged_target.csv')"
      ],
      "metadata": {
        "id": "7zJrfZ1Ae-bm"
      },
      "id": "7zJrfZ1Ae-bm",
      "execution_count": null,
      "outputs": []
    },
    {
      "cell_type": "code",
      "execution_count": null,
      "id": "470b51ad",
      "metadata": {
        "id": "470b51ad",
        "outputId": "b7249e1d-6095-4455-9cbb-9dd1dfcd7a8d",
        "colab": {
          "base_uri": "https://localhost:8080/",
          "height": 282
        }
      },
      "outputs": [
        {
          "output_type": "execute_result",
          "data": {
            "text/plain": [
              "<matplotlib.axes._subplots.AxesSubplot at 0x7f4ef7730f10>"
            ]
          },
          "metadata": {},
          "execution_count": 587
        },
        {
          "output_type": "display_data",
          "data": {
            "text/plain": [
              "<Figure size 432x288 with 1 Axes>"
            ],
            "image/png": "[encoded data removed]"
          },
          "metadata": {
            "needs_background": "light"
          }
        }
      ],
      "source": [
        "def targ_to_bin(x):\n",
        "    t = 0.85;\n",
        "    if(x<t):\n",
        "        return 0;\n",
        "    else:\n",
        "        return 1;\n",
        "\n",
        "# details_profile_int_dr[details_profile_int_dr['target_score']>=0.4]['target_score']=1\n",
        "# details_profile_int_dr[details_profile_int_dr['target_score']<0.4]['target_score']=0\n",
        "details_profile_int_dr['target_score'] = details_profile_int_dr['target_score'].apply(targ_to_bin)\n",
        "details_profile_int_dr['target_score'].hist()"
      ]
    },
    {
      "cell_type": "code",
      "execution_count": null,
      "id": "ab3dd110",
      "metadata": {
        "scrolled": true,
        "id": "ab3dd110"
      },
      "outputs": [],
      "source": [
        "#sns.pairplot(details_profile_int_dr, hue='target_score')"
      ]
    },
    {
      "cell_type": "code",
      "execution_count": null,
      "id": "eedc09ba",
      "metadata": {
        "id": "eedc09ba",
        "colab": {
          "base_uri": "https://localhost:8080/"
        },
        "outputId": "962bf7cb-46d8-4c41-810e-2f473daf9029"
      },
      "outputs": [
        {
          "output_type": "execute_result",
          "data": {
            "text/plain": [
              "Index(['booking_count', 'age_in_days', 'core_earning', 'active_days',\n",
              "       'followers', 'company tier numerical', 'college tier numerical',\n",
              "       'years of experience', '# of posts/week',\n",
              "       'avg engagement per post last 30 days', '# of Posts last 30 days',\n",
              "       '# of Comments last 30 days', '# of Reactions last 30 days',\n",
              "       'gender_score', '# of promotional posts', 'target_score'],\n",
              "      dtype='object')"
            ]
          },
          "metadata": {},
          "execution_count": 76
        }
      ],
      "source": [
        "#details_profile_int_dr.to_csv('Actual.csv',index=True)\n",
        "details_profile_int_dr.columns"
      ]
    },
    {
      "cell_type": "code",
      "execution_count": null,
      "id": "7c2dbd48",
      "metadata": {
        "id": "7c2dbd48",
        "colab": {
          "base_uri": "https://localhost:8080/",
          "height": 468
        },
        "outputId": "634fda15-0ffa-4f0a-8f89-005e4857367b"
      },
      "outputs": [
        {
          "output_type": "execute_result",
          "data": {
            "text/plain": [
              "         followers  company tier numerical  college tier numerical  \\\n",
              "0      6705.000000                5.000000                7.000000   \n",
              "1      8619.000000                5.000000                6.000000   \n",
              "2     20619.957204                5.000000                6.000000   \n",
              "3      8701.845218                5.000000                5.000000   \n",
              "4      1363.000000                8.000000                7.000000   \n",
              "...            ...                     ...                     ...   \n",
              "2473   6969.093359                8.118411                7.959558   \n",
              "2474   6969.093359                8.118411                7.959558   \n",
              "2475   6969.093359                8.118411                7.959558   \n",
              "2476   6969.093359                8.118411                7.959558   \n",
              "2477   3264.000000                9.000000               10.000000   \n",
              "\n",
              "      years of experience  # of posts/week  \\\n",
              "0                5.000000         1.166667   \n",
              "1               12.000000         2.836936   \n",
              "2                4.000000         2.777625   \n",
              "3                3.000000         2.401853   \n",
              "4                2.000000         0.000000   \n",
              "...                   ...              ...   \n",
              "2473             5.063251         1.137857   \n",
              "2474             5.063251         1.137857   \n",
              "2475             5.063251         1.137857   \n",
              "2476             5.063251         1.137857   \n",
              "2477             5.000000         2.456140   \n",
              "\n",
              "      avg engagement per post last 30 days  # of Posts last 30 days  \\\n",
              "0                                13.000000                 1.000000   \n",
              "1                               155.766060                 4.914843   \n",
              "2                               185.883403                 4.293077   \n",
              "3                                80.361750                 3.076529   \n",
              "4                                 0.000000                 0.000000   \n",
              "...                                    ...                      ...   \n",
              "2473                             67.251734                 3.020917   \n",
              "2474                             67.251734                 3.020917   \n",
              "2475                             67.251734                 3.020917   \n",
              "2476                             67.251734                 3.020917   \n",
              "2477                             43.550000                17.000000   \n",
              "\n",
              "      # of Comments last 30 days  # of Reactions last 30 days  gender_score  \\\n",
              "0                       0.000000                     0.000000           1.0   \n",
              "1                       1.190502                     2.629054           1.0   \n",
              "2                       1.250093                     2.667245           1.0   \n",
              "3                       0.475918                     1.471971           0.0   \n",
              "4                       0.000000                     0.000000           0.0   \n",
              "...                          ...                          ...           ...   \n",
              "2473                    1.000935                     0.776265           1.0   \n",
              "2474                    1.000935                     0.776265           1.0   \n",
              "2475                    1.000935                     0.776265           1.0   \n",
              "2476                    1.000935                     0.776265           1.0   \n",
              "2477                    9.000000                     8.000000           1.0   \n",
              "\n",
              "      # of promotional posts  target_score  \n",
              "0                   1.000000             1  \n",
              "1                   3.612194             1  \n",
              "2                   3.415630             1  \n",
              "3                   2.910151             1  \n",
              "4                   0.000000             1  \n",
              "...                      ...           ...  \n",
              "2473                0.958230             1  \n",
              "2474                0.958230             1  \n",
              "2475                0.958230             1  \n",
              "2476                0.958230             1  \n",
              "2477               15.000000             1  \n",
              "\n",
              "[2478 rows x 12 columns]"
            ],
            "text/html": [
              "\n",
              "  <div id=\"df-869dca25-b336-4ec0-a6df-ec7ab85cddfc\">\n",
              "    <div class=\"colab-df-container\">\n",
              "      <div>\n",
              "<style scoped>\n",
              "    .dataframe tbody tr th:only-of-type {\n",
              "        vertical-align: middle;\n",
              "    }\n",
              "\n",
              "    .dataframe tbody tr th {\n",
              "        vertical-align: top;\n",
              "    }\n",
              "\n",
              "    .dataframe thead th {\n",
              "        text-align: right;\n",
              "    }\n",
              "</style>\n",
              "<table border=\"1\" class=\"dataframe\">\n",
              "  <thead>\n",
              "    <tr style=\"text-align: right;\">\n",
              "      <th></th>\n",
              "      <th>followers</th>\n",
              "      <th>company tier numerical</th>\n",
              "      <th>college tier numerical</th>\n",
              "      <th>years of experience</th>\n",
              "      <th># of posts/week</th>\n",
              "      <th>avg engagement per post last 30 days</th>\n",
              "      <th># of Posts last 30 days</th>\n",
              "      <th># of Comments last 30 days</th>\n",
              "      <th># of Reactions last 30 days</th>\n",
              "      <th>gender_score</th>\n",
              "      <th># of promotional posts</th>\n",
              "      <th>target_score</th>\n",
              "    </tr>\n",
              "  </thead>\n",
              "  <tbody>\n",
              "    <tr>\n",
              "      <th>0</th>\n",
              "      <td>6705.000000</td>\n",
              "      <td>5.000000</td>\n",
              "      <td>7.000000</td>\n",
              "      <td>5.000000</td>\n",
              "      <td>1.166667</td>\n",
              "      <td>13.000000</td>\n",
              "      <td>1.000000</td>\n",
              "      <td>0.000000</td>\n",
              "      <td>0.000000</td>\n",
              "      <td>1.0</td>\n",
              "      <td>1.000000</td>\n",
              "      <td>1</td>\n",
              "    </tr>\n",
              "    <tr>\n",
              "      <th>1</th>\n",
              "      <td>8619.000000</td>\n",
              "      <td>5.000000</td>\n",
              "      <td>6.000000</td>\n",
              "      <td>12.000000</td>\n",
              "      <td>2.836936</td>\n",
              "      <td>155.766060</td>\n",
              "      <td>4.914843</td>\n",
              "      <td>1.190502</td>\n",
              "      <td>2.629054</td>\n",
              "      <td>1.0</td>\n",
              "      <td>3.612194</td>\n",
              "      <td>1</td>\n",
              "    </tr>\n",
              "    <tr>\n",
              "      <th>2</th>\n",
              "      <td>20619.957204</td>\n",
              "      <td>5.000000</td>\n",
              "      <td>6.000000</td>\n",
              "      <td>4.000000</td>\n",
              "      <td>2.777625</td>\n",
              "      <td>185.883403</td>\n",
              "      <td>4.293077</td>\n",
              "      <td>1.250093</td>\n",
              "      <td>2.667245</td>\n",
              "      <td>1.0</td>\n",
              "      <td>3.415630</td>\n",
              "      <td>1</td>\n",
              "    </tr>\n",
              "    <tr>\n",
              "      <th>3</th>\n",
              "      <td>8701.845218</td>\n",
              "      <td>5.000000</td>\n",
              "      <td>5.000000</td>\n",
              "      <td>3.000000</td>\n",
              "      <td>2.401853</td>\n",
              "      <td>80.361750</td>\n",
              "      <td>3.076529</td>\n",
              "      <td>0.475918</td>\n",
              "      <td>1.471971</td>\n",
              "      <td>0.0</td>\n",
              "      <td>2.910151</td>\n",
              "      <td>1</td>\n",
              "    </tr>\n",
              "    <tr>\n",
              "      <th>4</th>\n",
              "      <td>1363.000000</td>\n",
              "      <td>8.000000</td>\n",
              "      <td>7.000000</td>\n",
              "      <td>2.000000</td>\n",
              "      <td>0.000000</td>\n",
              "      <td>0.000000</td>\n",
              "      <td>0.000000</td>\n",
              "      <td>0.000000</td>\n",
              "      <td>0.000000</td>\n",
              "      <td>0.0</td>\n",
              "      <td>0.000000</td>\n",
              "      <td>1</td>\n",
              "    </tr>\n",
              "    <tr>\n",
              "      <th>...</th>\n",
              "      <td>...</td>\n",
              "      <td>...</td>\n",
              "      <td>...</td>\n",
              "      <td>...</td>\n",
              "      <td>...</td>\n",
              "      <td>...</td>\n",
              "      <td>...</td>\n",
              "      <td>...</td>\n",
              "      <td>...</td>\n",
              "      <td>...</td>\n",
              "      <td>...</td>\n",
              "      <td>...</td>\n",
              "    </tr>\n",
              "    <tr>\n",
              "      <th>2473</th>\n",
              "      <td>6969.093359</td>\n",
              "      <td>8.118411</td>\n",
              "      <td>7.959558</td>\n",
              "      <td>5.063251</td>\n",
              "      <td>1.137857</td>\n",
              "      <td>67.251734</td>\n",
              "      <td>3.020917</td>\n",
              "      <td>1.000935</td>\n",
              "      <td>0.776265</td>\n",
              "      <td>1.0</td>\n",
              "      <td>0.958230</td>\n",
              "      <td>1</td>\n",
              "    </tr>\n",
              "    <tr>\n",
              "      <th>2474</th>\n",
              "      <td>6969.093359</td>\n",
              "      <td>8.118411</td>\n",
              "      <td>7.959558</td>\n",
              "      <td>5.063251</td>\n",
              "      <td>1.137857</td>\n",
              "      <td>67.251734</td>\n",
              "      <td>3.020917</td>\n",
              "      <td>1.000935</td>\n",
              "      <td>0.776265</td>\n",
              "      <td>1.0</td>\n",
              "      <td>0.958230</td>\n",
              "      <td>1</td>\n",
              "    </tr>\n",
              "    <tr>\n",
              "      <th>2475</th>\n",
              "      <td>6969.093359</td>\n",
              "      <td>8.118411</td>\n",
              "      <td>7.959558</td>\n",
              "      <td>5.063251</td>\n",
              "      <td>1.137857</td>\n",
              "      <td>67.251734</td>\n",
              "      <td>3.020917</td>\n",
              "      <td>1.000935</td>\n",
              "      <td>0.776265</td>\n",
              "      <td>1.0</td>\n",
              "      <td>0.958230</td>\n",
              "      <td>1</td>\n",
              "    </tr>\n",
              "    <tr>\n",
              "      <th>2476</th>\n",
              "      <td>6969.093359</td>\n",
              "      <td>8.118411</td>\n",
              "      <td>7.959558</td>\n",
              "      <td>5.063251</td>\n",
              "      <td>1.137857</td>\n",
              "      <td>67.251734</td>\n",
              "      <td>3.020917</td>\n",
              "      <td>1.000935</td>\n",
              "      <td>0.776265</td>\n",
              "      <td>1.0</td>\n",
              "      <td>0.958230</td>\n",
              "      <td>1</td>\n",
              "    </tr>\n",
              "    <tr>\n",
              "      <th>2477</th>\n",
              "      <td>3264.000000</td>\n",
              "      <td>9.000000</td>\n",
              "      <td>10.000000</td>\n",
              "      <td>5.000000</td>\n",
              "      <td>2.456140</td>\n",
              "      <td>43.550000</td>\n",
              "      <td>17.000000</td>\n",
              "      <td>9.000000</td>\n",
              "      <td>8.000000</td>\n",
              "      <td>1.0</td>\n",
              "      <td>15.000000</td>\n",
              "      <td>1</td>\n",
              "    </tr>\n",
              "  </tbody>\n",
              "</table>\n",
              "<p>2478 rows × 12 columns</p>\n",
              "</div>\n",
              "      <button class=\"colab-df-convert\" onclick=\"convertToInteractive('df-869dca25-b336-4ec0-a6df-ec7ab85cddfc')\"\n",
              "              title=\"Convert this dataframe to an interactive table.\"\n",
              "              style=\"display:none;\">\n",
              "        \n",
              "  <svg xmlns=\"http://www.w3.org/2000/svg\" height=\"24px\"viewBox=\"0 0 24 24\"\n",
              "       width=\"24px\">\n",
              "    <path d=\"M0 0h24v24H0V0z\" fill=\"none\"/>\n",
              "    <path d=\"M18.56 5.44l.94 2.06.94-2.06 2.06-.94-2.06-.94-.94-2.06-.94 2.06-2.06.94zm-11 1L8.5 8.5l.94-2.06 2.06-.94-2.06-.94L8.5 2.5l-.94 2.06-2.06.94zm10 10l.94 2.06.94-2.06 2.06-.94-2.06-.94-.94-2.06-.94 2.06-2.06.94z\"/><path d=\"M17.41 7.96l-1.37-1.37c-.4-.4-.92-.59-1.43-.59-.52 0-1.04.2-1.43.59L10.3 9.45l-7.72 7.72c-.78.78-.78 2.05 0 2.83L4 21.41c.39.39.9.59 1.41.59.51 0 1.02-.2 1.41-.59l7.78-7.78 2.81-2.81c.8-.78.8-2.07 0-2.86zM5.41 20L4 18.59l7.72-7.72 1.47 1.35L5.41 20z\"/>\n",
              "  </svg>\n",
              "      </button>\n",
              "      \n",
              "  <style>\n",
              "    .colab-df-container {\n",
              "      display:flex;\n",
              "      flex-wrap:wrap;\n",
              "      gap: 12px;\n",
              "    }\n",
              "\n",
              "    .colab-df-convert {\n",
              "      background-color: #E8F0FE;\n",
              "      border: none;\n",
              "      border-radius: 50%;\n",
              "      cursor: pointer;\n",
              "      display: none;\n",
              "      fill: #1967D2;\n",
              "      height: 32px;\n",
              "      padding: 0 0 0 0;\n",
              "      width: 32px;\n",
              "    }\n",
              "\n",
              "    .colab-df-convert:hover {\n",
              "      background-color: #E2EBFA;\n",
              "      box-shadow: 0px 1px 2px rgba(60, 64, 67, 0.3), 0px 1px 3px 1px rgba(60, 64, 67, 0.15);\n",
              "      fill: #174EA6;\n",
              "    }\n",
              "\n",
              "    [theme=dark] .colab-df-convert {\n",
              "      background-color: #3B4455;\n",
              "      fill: #D2E3FC;\n",
              "    }\n",
              "\n",
              "    [theme=dark] .colab-df-convert:hover {\n",
              "      background-color: #434B5C;\n",
              "      box-shadow: 0px 1px 3px 1px rgba(0, 0, 0, 0.15);\n",
              "      filter: drop-shadow(0px 1px 2px rgba(0, 0, 0, 0.3));\n",
              "      fill: #FFFFFF;\n",
              "    }\n",
              "  </style>\n",
              "\n",
              "      <script>\n",
              "        const buttonEl =\n",
              "          document.querySelector('#df-869dca25-b336-4ec0-a6df-ec7ab85cddfc button.colab-df-convert');\n",
              "        buttonEl.style.display =\n",
              "          google.colab.kernel.accessAllowed ? 'block' : 'none';\n",
              "\n",
              "        async function convertToInteractive(key) {\n",
              "          const element = document.querySelector('#df-869dca25-b336-4ec0-a6df-ec7ab85cddfc');\n",
              "          const dataTable =\n",
              "            await google.colab.kernel.invokeFunction('convertToInteractive',\n",
              "                                                     [key], {});\n",
              "          if (!dataTable) return;\n",
              "\n",
              "          const docLinkHtml = 'Like what you see? Visit the ' +\n",
              "            '<a target=\"_blank\" href=https://colab.research.google.com/notebooks/data_table.ipynb>data table notebook</a>'\n",
              "            + ' to learn more about interactive tables.';\n",
              "          element.innerHTML = '';\n",
              "          dataTable['output_type'] = 'display_data';\n",
              "          await google.colab.output.renderOutput(dataTable, element);\n",
              "          const docLink = document.createElement('div');\n",
              "          docLink.innerHTML = docLinkHtml;\n",
              "          element.appendChild(docLink);\n",
              "        }\n",
              "      </script>\n",
              "    </div>\n",
              "  </div>\n",
              "  "
            ]
          },
          "metadata": {},
          "execution_count": 77
        }
      ],
      "source": [
        "details_profile_int_dr=details_profile_int_dr[['followers', 'company tier numerical', 'college tier numerical','years of experience', '# of posts/week','avg engagement per post last 30 days', '# of Posts last 30 days','# of Comments last 30 days', '# of Reactions last 30 days',\n",
        "       'gender_score', '# of promotional posts','target_score', ]]\n",
        "details_profile_int_dr   "
      ]
    },
    {
      "cell_type": "code",
      "execution_count": null,
      "id": "7eec0f70",
      "metadata": {
        "scrolled": true,
        "id": "7eec0f70"
      },
      "outputs": [],
      "source": [
        "# #sns.displot(x='booking_count',data=details_profile_int_dr)\n",
        "# plt.hist(details_profile_int_dr['booking_count'],bins=50)\n",
        "# plt.grid()\n"
      ]
    },
    {
      "cell_type": "code",
      "execution_count": null,
      "id": "63db395f",
      "metadata": {
        "id": "63db395f",
        "outputId": "57bf4a31-748d-437e-8afe-930c35344bdc",
        "colab": {
          "base_uri": "https://localhost:8080/"
        }
      },
      "outputs": [
        {
          "output_type": "execute_result",
          "data": {
            "text/plain": [
              "Index(['followers', 'company tier numerical', 'college tier numerical',\n",
              "       'years of experience', '# of posts/week',\n",
              "       'avg engagement per post last 30 days', '# of Posts last 30 days',\n",
              "       '# of Comments last 30 days', '# of Reactions last 30 days',\n",
              "       'gender_score', '# of promotional posts', 'target_score'],\n",
              "      dtype='object')"
            ]
          },
          "metadata": {},
          "execution_count": 79
        }
      ],
      "source": [
        "details_profile_int_dr.columns"
      ]
    },
    {
      "cell_type": "code",
      "execution_count": null,
      "id": "ccde9172",
      "metadata": {
        "scrolled": true,
        "id": "ccde9172",
        "outputId": "60308f24-4d16-4608-ea80-645221abb3aa",
        "colab": {
          "base_uri": "https://localhost:8080/"
        }
      },
      "outputs": [
        {
          "output_type": "stream",
          "name": "stderr",
          "text": [
            "<ipython-input-80-2857bd4240f7>:1: SettingWithCopyWarning: \n",
            "A value is trying to be set on a copy of a slice from a DataFrame.\n",
            "Try using .loc[row_indexer,col_indexer] = value instead\n",
            "\n",
            "See the caveats in the documentation: https://pandas.pydata.org/pandas-docs/stable/user_guide/indexing.html#returning-a-view-versus-a-copy\n",
            "  details_profile_int_dr['followers'] = details_profile_int_dr['followers'].astype('int64')\n"
          ]
        }
      ],
      "source": [
        "details_profile_int_dr['followers'] = details_profile_int_dr['followers'].astype('int64')"
      ]
    },
    {
      "cell_type": "code",
      "execution_count": null,
      "id": "c31a7c8f",
      "metadata": {
        "id": "c31a7c8f"
      },
      "outputs": [],
      "source": [
        "#plt.figure(figsize=(12,12))\n",
        "#i = 1;\n",
        "#for ind in details_profile_int_dr.columns:\n",
        "#    plt.subplot(4,4,i)\n",
        "#    sns.scatterplot(x=ind,y='target_score',data=details_profile_int_dr)\n",
        "#    plt.grid()\n",
        "#    i=i+1;"
      ]
    },
    {
      "cell_type": "markdown",
      "id": "7be5de36",
      "metadata": {
        "id": "7be5de36"
      },
      "source": [
        "# Feature Elimination"
      ]
    },
    {
      "cell_type": "code",
      "execution_count": null,
      "id": "ca43f875",
      "metadata": {
        "id": "ca43f875"
      },
      "outputs": [],
      "source": []
    },
    {
      "cell_type": "code",
      "execution_count": null,
      "id": "1b9533b3",
      "metadata": {
        "id": "1b9533b3"
      },
      "outputs": [],
      "source": [
        "X = details_profile_int_dr.drop(['target_score'],axis=1)\n",
        "y = details_profile_int_dr['target_score']"
      ]
    },
    {
      "cell_type": "code",
      "execution_count": null,
      "id": "fda97874",
      "metadata": {
        "id": "fda97874"
      },
      "outputs": [],
      "source": []
    },
    {
      "cell_type": "markdown",
      "id": "b9654474",
      "metadata": {
        "id": "b9654474"
      },
      "source": [
        "# Train_Test_Split"
      ]
    },
    {
      "cell_type": "code",
      "execution_count": null,
      "id": "54b92cc0",
      "metadata": {
        "id": "54b92cc0",
        "outputId": "e0b4c359-dcc0-4853-8079-9cc5031d4e29",
        "colab": {
          "base_uri": "https://localhost:8080/"
        }
      },
      "outputs": [
        {
          "output_type": "stream",
          "name": "stdout",
          "text": [
            "Looking in indexes: https://pypi.org/simple, https://us-python.pkg.dev/colab-wheels/public/simple/\n",
            "Requirement already satisfied: scikit-learn in /usr/local/lib/python3.8/dist-packages (1.0.2)\n",
            "Requirement already satisfied: numpy>=1.14.6 in /usr/local/lib/python3.8/dist-packages (from scikit-learn) (1.21.6)\n",
            "Requirement already satisfied: joblib>=0.11 in /usr/local/lib/python3.8/dist-packages (from scikit-learn) (1.2.0)\n",
            "Requirement already satisfied: threadpoolctl>=2.0.0 in /usr/local/lib/python3.8/dist-packages (from scikit-learn) (3.1.0)\n",
            "Requirement already satisfied: scipy>=1.1.0 in /usr/local/lib/python3.8/dist-packages (from scikit-learn) (1.7.3)\n"
          ]
        }
      ],
      "source": [
        "#!python.exe -m pip install --upgrade pip\n",
        "#!pip install sklearn\n",
        "!pip install scikit-learn"
      ]
    },
    {
      "cell_type": "code",
      "execution_count": null,
      "id": "833238a5",
      "metadata": {
        "id": "833238a5"
      },
      "outputs": [],
      "source": [
        "from sklearn.model_selection import train_test_split\n",
        "Xtr,Xte,ytrain,ytest=train_test_split(X,y,test_size=0.3)"
      ]
    },
    {
      "cell_type": "markdown",
      "source": [
        "#Data Scaling and Transformation"
      ],
      "metadata": {
        "id": "y58EWshJ2sAY"
      },
      "id": "y58EWshJ2sAY"
    },
    {
      "cell_type": "code",
      "source": [
        "from sklearn.preprocessing import MinMaxScaler\n",
        "scaler = MinMaxScaler()\n",
        "Xtrain= scaler.fit_transform(Xtr)\n",
        "Xtest = scaler.transform(Xte)"
      ],
      "metadata": {
        "id": "Uyepui5525iP"
      },
      "id": "Uyepui5525iP",
      "execution_count": null,
      "outputs": []
    },
    {
      "cell_type": "markdown",
      "id": "de633688",
      "metadata": {
        "id": "de633688"
      },
      "source": [
        "# Model Building "
      ]
    },
    {
      "cell_type": "code",
      "execution_count": null,
      "id": "8c4c7bf8",
      "metadata": {
        "id": "8c4c7bf8"
      },
      "outputs": [],
      "source": [
        "#Importing Models for Majority Vote\n",
        "from sklearn.linear_model import LogisticRegression\n",
        "from sklearn.naive_bayes import MultinomialNB, GaussianNB, BernoulliNB\n",
        "from sklearn.svm import LinearSVC\n",
        "from sklearn.ensemble import RandomForestClassifier"
      ]
    },
    {
      "cell_type": "code",
      "execution_count": null,
      "id": "e1f76249",
      "metadata": {
        "id": "e1f76249"
      },
      "outputs": [],
      "source": [
        "logreg=LogisticRegression(penalty=\"l2\")\n",
        "MultiNB=MultinomialNB()\n",
        "GaussNB=GaussianNB()\n",
        "BernNB=BernoulliNB()\n",
        "svc_clf=LinearSVC()\n",
        "rfc=RandomForestClassifier(n_estimators=100,max_depth=1000)"
      ]
    },
    {
      "cell_type": "code",
      "execution_count": null,
      "id": "69dd13fb",
      "metadata": {
        "scrolled": true,
        "id": "69dd13fb",
        "outputId": "def37121-cc35-4536-fdfd-734b10bb5aff",
        "colab": {
          "base_uri": "https://localhost:8080/"
        }
      },
      "outputs": [
        {
          "output_type": "stream",
          "name": "stdout",
          "text": [
            "<class 'pandas.core.frame.DataFrame'>\n",
            "Int64Index: 1734 entries, 2184 to 1110\n",
            "Data columns (total 11 columns):\n",
            " #   Column                                Non-Null Count  Dtype  \n",
            "---  ------                                --------------  -----  \n",
            " 0   followers                             1734 non-null   int64  \n",
            " 1   company tier numerical                1734 non-null   float64\n",
            " 2   college tier numerical                1734 non-null   float64\n",
            " 3   years of experience                   1734 non-null   float64\n",
            " 4   # of posts/week                       1734 non-null   float64\n",
            " 5   avg engagement per post last 30 days  1734 non-null   float64\n",
            " 6   # of Posts last 30 days               1734 non-null   float64\n",
            " 7   # of Comments last 30 days            1734 non-null   float64\n",
            " 8   # of Reactions last 30 days           1734 non-null   float64\n",
            " 9   gender_score                          1734 non-null   float64\n",
            " 10  # of promotional posts                1734 non-null   float64\n",
            "dtypes: float64(10), int64(1)\n",
            "memory usage: 162.6 KB\n"
          ]
        }
      ],
      "source": [
        "Xtr.info()"
      ]
    },
    {
      "cell_type": "markdown",
      "id": "f721810a",
      "metadata": {
        "id": "f721810a"
      },
      "source": [
        "# Model Fitting"
      ]
    },
    {
      "cell_type": "code",
      "execution_count": null,
      "id": "fc4a59e9",
      "metadata": {
        "id": "fc4a59e9",
        "outputId": "42a36cfa-65ba-444f-e85f-78ab1763c68e",
        "colab": {
          "base_uri": "https://localhost:8080/"
        }
      },
      "outputs": [
        {
          "output_type": "execute_result",
          "data": {
            "text/plain": [
              "followers                               0\n",
              "company tier numerical                  0\n",
              "college tier numerical                  0\n",
              "years of experience                     0\n",
              "# of posts/week                         0\n",
              "avg engagement per post last 30 days    0\n",
              "# of Posts last 30 days                 0\n",
              "# of Comments last 30 days              0\n",
              "# of Reactions last 30 days             0\n",
              "gender_score                            0\n",
              "# of promotional posts                  0\n",
              "target_score                            0\n",
              "dtype: int64"
            ]
          },
          "metadata": {},
          "execution_count": 89
        }
      ],
      "source": [
        "details_profile_int_dr.isnull().sum()"
      ]
    },
    {
      "cell_type": "code",
      "source": [
        "details_profile_int_dr.columns"
      ],
      "metadata": {
        "colab": {
          "base_uri": "https://localhost:8080/"
        },
        "id": "m2xEepw88HgB",
        "outputId": "8900823e-d055-4f3f-bd85-b704757f0c27"
      },
      "id": "m2xEepw88HgB",
      "execution_count": null,
      "outputs": [
        {
          "output_type": "execute_result",
          "data": {
            "text/plain": [
              "Index(['followers', 'company tier numerical', 'college tier numerical',\n",
              "       'years of experience', '# of posts/week',\n",
              "       'avg engagement per post last 30 days', '# of Posts last 30 days',\n",
              "       '# of Comments last 30 days', '# of Reactions last 30 days',\n",
              "       'gender_score', '# of promotional posts', 'target_score'],\n",
              "      dtype='object')"
            ]
          },
          "metadata": {},
          "execution_count": 90
        }
      ]
    },
    {
      "cell_type": "code",
      "execution_count": null,
      "id": "89e487f4",
      "metadata": {
        "scrolled": true,
        "id": "89e487f4",
        "outputId": "6c27dd32-f9cd-4836-9033-be9a7489be32",
        "colab": {
          "base_uri": "https://localhost:8080/",
          "height": 304
        }
      },
      "outputs": [
        {
          "output_type": "error",
          "ename": "ValueError",
          "evalue": "ignored",
          "traceback": [
            "\u001b[0;31m---------------------------------------------------------------------------\u001b[0m",
            "\u001b[0;31mValueError\u001b[0m                                Traceback (most recent call last)",
            "\u001b[0;32m<ipython-input-91-9199865d6947>\u001b[0m in \u001b[0;36m<module>\u001b[0;34m\u001b[0m\n\u001b[0;32m----> 1\u001b[0;31m \u001b[0mlogreg\u001b[0m\u001b[0;34m.\u001b[0m\u001b[0mfit\u001b[0m\u001b[0;34m(\u001b[0m\u001b[0mXtrain\u001b[0m\u001b[0;34m,\u001b[0m\u001b[0mytrain\u001b[0m\u001b[0;34m)\u001b[0m\u001b[0;34m\u001b[0m\u001b[0;34m\u001b[0m\u001b[0m\n\u001b[0m\u001b[1;32m      2\u001b[0m \u001b[0myhat_logreg\u001b[0m\u001b[0;34m=\u001b[0m\u001b[0mlogreg\u001b[0m\u001b[0;34m.\u001b[0m\u001b[0mpredict\u001b[0m\u001b[0;34m(\u001b[0m\u001b[0mXtest\u001b[0m\u001b[0;34m)\u001b[0m\u001b[0;34m\u001b[0m\u001b[0;34m\u001b[0m\u001b[0m\n",
            "\u001b[0;32m/usr/local/lib/python3.8/dist-packages/sklearn/linear_model/_logistic.py\u001b[0m in \u001b[0;36mfit\u001b[0;34m(self, X, y, sample_weight)\u001b[0m\n\u001b[1;32m   1552\u001b[0m         \u001b[0mclasses_\u001b[0m \u001b[0;34m=\u001b[0m \u001b[0mself\u001b[0m\u001b[0;34m.\u001b[0m\u001b[0mclasses_\u001b[0m\u001b[0;34m\u001b[0m\u001b[0;34m\u001b[0m\u001b[0m\n\u001b[1;32m   1553\u001b[0m         \u001b[0;32mif\u001b[0m \u001b[0mn_classes\u001b[0m \u001b[0;34m<\u001b[0m \u001b[0;36m2\u001b[0m\u001b[0;34m:\u001b[0m\u001b[0;34m\u001b[0m\u001b[0;34m\u001b[0m\u001b[0m\n\u001b[0;32m-> 1554\u001b[0;31m             raise ValueError(\n\u001b[0m\u001b[1;32m   1555\u001b[0m                 \u001b[0;34m\"This solver needs samples of at least 2 classes\"\u001b[0m\u001b[0;34m\u001b[0m\u001b[0;34m\u001b[0m\u001b[0m\n\u001b[1;32m   1556\u001b[0m                 \u001b[0;34m\" in the data, but the data contains only one\"\u001b[0m\u001b[0;34m\u001b[0m\u001b[0;34m\u001b[0m\u001b[0m\n",
            "\u001b[0;31mValueError\u001b[0m: This solver needs samples of at least 2 classes in the data, but the data contains only one class: 1"
          ]
        }
      ],
      "source": [
        "logreg.fit(Xtrain,ytrain)\n",
        "yhat_logreg=logreg.predict(Xtest)"
      ]
    },
    {
      "cell_type": "code",
      "execution_count": null,
      "id": "1150d243",
      "metadata": {
        "id": "1150d243"
      },
      "outputs": [],
      "source": [
        "MultiNB.fit(Xtrain,ytrain)\n",
        "yhat_MultiNB=MultiNB.predict(Xtest)"
      ]
    },
    {
      "cell_type": "code",
      "execution_count": null,
      "id": "497d7867",
      "metadata": {
        "id": "497d7867"
      },
      "outputs": [],
      "source": [
        "GaussNB.fit(Xtrain,ytrain)\n",
        "yhat_GaussNB=GaussNB.predict(Xtest)"
      ]
    },
    {
      "cell_type": "code",
      "execution_count": null,
      "id": "9b3edb85",
      "metadata": {
        "id": "9b3edb85"
      },
      "outputs": [],
      "source": [
        "BernNB.fit(Xtrain,ytrain)\n",
        "yhat_BernNB=BernNB.predict(Xtest)"
      ]
    },
    {
      "cell_type": "code",
      "execution_count": null,
      "id": "f59c16e8",
      "metadata": {
        "id": "f59c16e8"
      },
      "outputs": [],
      "source": [
        "svc_clf.fit(Xtrain,ytrain)\n",
        "yhat_svc=svc_clf.predict(Xtest)"
      ]
    },
    {
      "cell_type": "code",
      "execution_count": null,
      "id": "2ccda3a8",
      "metadata": {
        "id": "2ccda3a8"
      },
      "outputs": [],
      "source": [
        "rfc.fit(Xtrain,ytrain)\n",
        "yhat_rfc=rfc.predict(Xtest)"
      ]
    },
    {
      "cell_type": "markdown",
      "id": "4e64ca20",
      "metadata": {
        "id": "4e64ca20"
      },
      "source": [
        "# Model Evaluation and Testing"
      ]
    },
    {
      "cell_type": "code",
      "execution_count": null,
      "id": "cfa65c8b",
      "metadata": {
        "id": "cfa65c8b"
      },
      "outputs": [],
      "source": [
        "from sklearn.metrics import classification_report, confusion_matrix\n",
        "#Logistic Regression \n",
        "print(\"Logistic Regression\")\n",
        "print(classification_report(ytest,yhat_logreg))\n",
        "\n",
        "##Multinomial Naive Bayes\n",
        "print(\"Multinomial Naive Bayes\")\n",
        "print(classification_report(ytest,yhat_MultiNB))\n",
        "\n",
        "#Gaussian Naive Bayes\n",
        "print(\"Gaussian Naive Bayes\")\n",
        "print(classification_report(ytest,yhat_GaussNB))\n",
        "#Gausaian Naive Bayes Model displays poor recall on the data and results in only ~50-55% accuracy overall.\n",
        "#f1 score suggests overall performance\n",
        "\n",
        "#Bernoulli Naive Bayes\n",
        "print(\"Bernoulli Naive Bayes\")\n",
        "print(classification_report(ytest,yhat_BernNB))\n",
        "#Despite simplicity of Bernoulli trials, it shows a good performance overall\n",
        "\n",
        "#Support Vector Machine\n",
        "print(\"Support Vector Machine\")\n",
        "print(classification_report(ytest,yhat_svc))\n",
        "\n",
        "#Random Forest Classifier\n",
        "print(\"Random Forest Classifier\")\n",
        "print(classification_report(ytest,yhat_rfc))"
      ]
    },
    {
      "cell_type": "markdown",
      "id": "736827a3",
      "metadata": {
        "id": "736827a3"
      },
      "source": [
        "# Ensemble Model- Majority Voting Model"
      ]
    },
    {
      "cell_type": "code",
      "execution_count": null,
      "id": "f265c067",
      "metadata": {
        "id": "f265c067"
      },
      "outputs": [],
      "source": [
        "#Majority Vote Class\n",
        "from scipy.stats import mode\n",
        "class MajorityVote:\n",
        "    def __init__(self,*classifiers):\n",
        "        self.classifier=classifiers;\n",
        "\n",
        "    def predict(self,sample,confidence=False):\n",
        "        vote=[];\n",
        "        for clf in self.classifier:\n",
        "            plabel=clf.predict(sample)\n",
        "            vote.append(plabel)\n",
        "        if(confidence):\n",
        "           maj_vote_count=mode(vote)[1];            \n",
        "           conf=(maj_vote_count/len(vote))*100;\n",
        "           return mode(vote)[0], conf        \n",
        "        else:\n",
        "            return mode(vote)[0]\n",
        "vote_combined_clf=MajorityVote(logreg,MultiNB,BernNB,svc_clf,rfc);"
      ]
    },
    {
      "cell_type": "code",
      "execution_count": null,
      "id": "2a9c0493",
      "metadata": {
        "scrolled": true,
        "id": "2a9c0493"
      },
      "outputs": [],
      "source": [
        "yhat_mvote= (vote_combined_clf.predict(Xtest)).T\n",
        "print(yhat_mvote[5:10])"
      ]
    },
    {
      "cell_type": "code",
      "execution_count": null,
      "id": "8a1c622f",
      "metadata": {
        "scrolled": true,
        "id": "8a1c622f"
      },
      "outputs": [],
      "source": [
        "print(classification_report(ytest,yhat_mvote))"
      ]
    },
    {
      "cell_type": "code",
      "execution_count": null,
      "id": "7c7e5a41",
      "metadata": {
        "id": "7c7e5a41"
      },
      "outputs": [],
      "source": [
        "new_file='test_v2.csv';\n",
        "details_user_t=pd.read_csv(new_file);\n",
        "#det_cols=['booking_count', 'age_in_days','core_earning','active_days', 'followers', 'company tier numerical', 'college tier numerical', 'years of experience', '# of posts/week', 'avg engagement per post last 30 days', '# of Posts last 30 days', '# of Comments last 30 days', '# of Reactions last 30 days', 'gender_score','# of promotional posts']\n",
        "#cols_det=['followers', 'years of experience', '# of posts/week', 'avg engagement per post last 30 days', '# of Posts last 30 days', '# of Comments last 30 days', '# of Reactions last 30 days']\n",
        "cols_det=['followers', 'company tier numerical', 'college tier numerical','years of experience', '# of posts/week',\n",
        "       'avg engagement per post last 30 days', '# of Posts last 30 days',\n",
        "       '# of Comments last 30 days', '# of Reactions last 30 days',\n",
        "       'gender_score', '# of promotional posts']\n",
        "details_profile_int_dr_t=details_user_t[cols_det]\n",
        "details_profile_int_dr_t.dropna(inplace=True)\n",
        "#pd=details_user[det_cols]#profile details\n",
        "X = details_profile_int_dr_t\n",
        "X_scaled = scaler.transform(X)\n",
        "#y = details_profile_int_dr_t['target_score']\n",
        "y_pred = vote_combined_clf.predict(X_scaled)\n",
        "y = pd.DataFrame(y_pred.T,columns=['Estimator'])\n",
        "df = pd.concat([details_user_t,y],axis=1,join='inner')\n",
        "df.to_csv('tcomb_iterative_impute_normal_dist_cdf.csv')"
      ]
    },
    {
      "cell_type": "code",
      "source": [
        "pwd"
      ],
      "metadata": {
        "id": "g6zTBRMW8865"
      },
      "id": "g6zTBRMW8865",
      "execution_count": null,
      "outputs": []
    }
  ],
  "metadata": {
    "kernelspec": {
      "display_name": "Python 3 (ipykernel)",
      "language": "python",
      "name": "python3"
    },
    "language_info": {
      "codemirror_mode": {
        "name": "ipython",
        "version": 3
      },
      "file_extension": ".py",
      "mimetype": "text/x-python",
      "name": "python",
      "nbconvert_exporter": "python",
      "pygments_lexer": "ipython3",
      "version": "3.10.8"
    },
    "colab": {
      "provenance": [],
      "toc_visible": true,
      "include_colab_link": true
    }
  },
  "nbformat": 4,
  "nbformat_minor": 5
}